{
 "cells": [
  {
   "cell_type": "code",
   "execution_count": 9,
   "id": "8b4af440-b04b-4488-9336-ab997a4a8dfc",
   "metadata": {},
   "outputs": [],
   "source": [
    "from openai import OpenAI "
   ]
  },
  {
   "cell_type": "code",
   "execution_count": 10,
   "id": "dd04fa56-6c8f-47c5-8335-c6d6efa70094",
   "metadata": {},
   "outputs": [
    {
     "name": "stdout",
     "output_type": "stream",
     "text": [
      "hello\n"
     ]
    }
   ],
   "source": [
    "client = OpenAI(\n",
    "api_key=\"sk-b6de1e42df724c84b39a309c5788569d\",\n",
    "base_url=\"https://api.deepseek.com\"\n",
    ")\n",
    "DEEPSEEK_MODEL = \"deepseek-chat\"\n",
    "print(\"hello\")"
   ]
  },
  {
   "cell_type": "code",
   "execution_count": 11,
   "id": "d1e9e20e-8ee4-4955-8aed-1926e6fcec77",
   "metadata": {},
   "outputs": [],
   "source": [
    "# 一次问答\n",
    "def get_completion(prompt, model=DEEPSEEK_MODEL, temperature=0):\n",
    "    messages = [{\"role\": \"user\", \"content\": prompt}]\n",
    "    response = client.chat.completions.create(\n",
    "        model=model,\n",
    "        messages=messages,\n",
    "        temperature=temperature\n",
    "    )\n",
    "    return response.choices[0].message.content\n",
    "\n",
    "# 多轮对话\n",
    "def get_completion_from_messages(messages, model=DEEPSEEK_MODEL, temperature=0, max_tokens=None):\n",
    "    response = client.chat.completions.create(\n",
    "        model=model,\n",
    "        messages=messages,\n",
    "        temperature=temperature,\n",
    "        max_tokens=max_tokens\n",
    "    )\n",
    "    return response.choices[0].message.content"
   ]
  },
  {
   "cell_type": "code",
   "execution_count": 24,
   "id": "b94b9dc1-ff87-4b77-85f8-1b8636272a33",
   "metadata": {},
   "outputs": [],
   "source": [
    "import json\n",
    "# 加载结构化产品信息\n",
    "product_info_json = \"\"\"\n",
    "[\n",
    "    {\n",
    "        \"brand\": \"华为\",\n",
    "        \"model\": \"Mate X6\",\n",
    "        \"price\": 14999,\n",
    "        \"screen_size\": \"7.93 inches\",\n",
    "        \"battery_capacity\": \"5200 mAh\",\n",
    "        \"description\": \"华为Mate X6是一款拥有7.93英寸可折叠屏幕的旗舰手机，提供极致的视觉体验。\"\n",
    "    },\n",
    "    {\n",
    "        \"brand\": \"vivo\",\n",
    "        \"model\": \"X200 Pro\",\n",
    "        \"price\": 5299,\n",
    "        \"screen_size\": \"6.78 inches\",\n",
    "        \"battery_capacity\": \"6000 mAh\",\n",
    "        \"description\": \"vivo X200 Pro采用6.78英寸AMOLED屏幕，搭载专业摄影功能，捕捉每一刻精彩。\"\n",
    "    },\n",
    "    {\n",
    "        \"brand\": \"小米\",\n",
    "        \"model\": \"Mi 15 Ultra\",\n",
    "        \"price\": 6499,\n",
    "        \"screen_size\": \"6.73inches\",\n",
    "        \"battery_capacity\": \"6000 mAh\",\n",
    "        \"description\": \"小米Mi 11 Ultra配备6.73英寸高刷新率屏幕和6000 mAh电池，性能与续航兼具。\"\n",
    "    }\n",
    "]\n",
    "\"\"\"\n",
    "product_info_list = json.loads(product_info_json)"
   ]
  },
  {
   "cell_type": "code",
   "execution_count": 25,
   "id": "10ba68c2-a925-4238-9f41-2a374222e98d",
   "metadata": {},
   "outputs": [],
   "source": [
    "def customer_service_assistant(user_message=None, product_info_json=product_info_json, product_info_list=product_info_list):\n",
    "\n",
    "\n",
    "  #### step1 判断用户问题是否是关于公司的产品\n",
    "  delimiter = \"====\"\n",
    "  system_message = f\"\"\"\n",
    "  您将获得客户服务查询。\n",
    "  客户服务查询将使用{delimiter}字符作为分隔符。\n",
    "  确定用户是否正在询问有关特定产品或产品的问题，如果是的话返回Y，否则返回N。\n",
    "  产品信息如下：\n",
    "  {product_info_json}\n",
    "  \"\"\"\n",
    "  messages = [\n",
    "    {'role':'system','content': system_message},\n",
    "    {'role':'user','content': f\"{delimiter}{user_message}{delimiter}\"},\n",
    "  ]\n",
    "  response2 = get_completion_from_messages(messages)\n",
    "  print('第一步：判断用户问题是否是关于公司的产品。结果：', response2)\n",
    "  if response2 == 'N':\n",
    "    return '抱歉，我们公司产品以外的业务暂时回复不了哦'\n",
    "\n",
    "  #### step2 识别用户问题中涉及的产品名称\n",
    "  system_message = f\"\"\"\n",
    "    您将获得客户服务查询。\n",
    "    客户服务查询将使用{delimiter}字符作为分隔符。\n",
    "    根据用户的问题，返回用户涉及的产品名称列表。返回的格式只能是json形式，表现为[\"产品名称1\"，\"产品名称2\"，...],\n",
    "    其中产品名称只能是'华为、vivo、小米'三个名称中的一个或多个。\n",
    "    产品信息如下：\n",
    "    {product_info_json}\n",
    "  \"\"\"\n",
    "  user_message = f\"\"\"{user_message}\"\"\"\n",
    "  messages =  [\n",
    "    {'role':'system','content': system_message},\n",
    "    {'role':'user','content': f\"{delimiter}{user_message}{delimiter}\"},\n",
    "  ]\n",
    "  response3 = get_completion_from_messages(messages)\n",
    "  print('第二步：识别用户问题中涉及的产品名称。结果：', response3)\n",
    "\n",
    "  #### step3 根据名称查询产品信息\n",
    "  response3_clean = response3.strip().replace('```json', '').replace('```', '').strip()\n",
    "  for product_name in json.loads(response3_clean):\n",
    "    for product_dict in product_info_list:\n",
    "      if product_dict['brand'] == product_name:\n",
    "        product_rel_json = json.dumps(product_dict, ensure_ascii=False)\n",
    "        print('第三步：根据名称查询产品信息。结果：', product_rel_json)\n",
    "\n",
    "  #### step4 根据查询的产品信息回答用户问题\n",
    "  system_message = f\"\"\"\n",
    "    您是一家销售手机的电商售前助理。\n",
    "    请以友善平和的语气回答客户的问题。\n",
    "    客户的问题将使用{delimiter}字符作为分隔符。\n",
    "  \"\"\"\n",
    "  user_message = f\"\"\"{user_message}\"\"\"\n",
    "  messages =  [\n",
    "    {'role':'system','content': system_message},\n",
    "    {'role':'user','content': f\"{delimiter}{user_message}{delimiter}\"},\n",
    "    {'role':'assistant','content': f\"\"\"相关产品信息：{product_rel_json}\"\"\"}\n",
    "  ]\n",
    "  response5 = get_completion_from_messages(messages)\n",
    "  print('第四步：根据查询的产品信息回答用户问题。结果：', response5)\n",
    "\n",
    "  #### step5 判断回复给用户的内容是否对用户有用\n",
    "  user_message = f\"\"\"\n",
    "    用户信息: {delimiter}{user_message}{delimiter}\n",
    "    代理回复: {delimiter}{response5}{delimiter}\n",
    "    回复是否足够回答问题\n",
    "    如果足够，回答 Y\n",
    "    如果不足够，回答 N\n",
    "    仅回答上述字母即可\n",
    "  \"\"\"\n",
    "  messages = [\n",
    "      {'role': 'system', 'content': system_message},\n",
    "      {'role': 'user', 'content': user_message}\n",
    "  ]\n",
    "  response7 = get_completion_from_messages(messages)\n",
    "  if response7 == 'N':\n",
    "    print('第五步：判断回复给用户的内容是否对用户有用。结果：对用户无用，需要转人工。')\n",
    "    return '抱歉，暂时无法回复该问题，将转接人工客服。'\n",
    "  else:\n",
    "    print('第五步：判断回复给用户的内容是否对用户有用。结果：对用户有用。')\n",
    "\n",
    "  return response5\n",
    "     "
   ]
  },
  {
   "cell_type": "code",
   "execution_count": 26,
   "id": "fa5d0357-c43b-4510-9b3e-42f60ae114a7",
   "metadata": {
    "scrolled": true
   },
   "outputs": [
    {
     "name": "stdout",
     "output_type": "stream",
     "text": [
      "第一步：判断用户问题是否是关于公司的产品。结果： Y\n",
      "第二步：识别用户问题中涉及的产品名称。结果： ```json\n",
      "[\"华为\", \"vivo\"]\n",
      "```\n",
      "第三步：根据名称查询产品信息。结果： {\"brand\": \"华为\", \"model\": \"Mate X6\", \"price\": 14999, \"screen_size\": \"7.93 inches\", \"battery_capacity\": \"5200 mAh\", \"description\": \"华为Mate X6是一款拥有7.93英寸可折叠屏幕的旗舰手机，提供极致的视觉体验。\"}\n",
      "第三步：根据名称查询产品信息。结果： {\"brand\": \"vivo\", \"model\": \"X200 Pro\", \"price\": 5299, \"screen_size\": \"6.78 inches\", \"battery_capacity\": \"6000 mAh\", \"description\": \"vivo X200 Pro采用6.78英寸AMOLED屏幕，搭载专业摄影功能，捕捉每一刻精彩。\"}\n",
      "第四步：根据查询的产品信息回答用户问题。结果： 您好！感谢您的咨询。除了小米手机外，我们还销售vivo品牌的手机。比如这款vivo X200 Pro就很不错：\n",
      "\n",
      "- 6.78英寸AMOLED大屏\n",
      "- 6000mAh大容量电池\n",
      "- 专业级摄影功能\n",
      "- 售价5299元\n",
      "\n",
      "这款手机特别适合喜欢拍照和追求大屏体验的用户。如果您对这款手机感兴趣，或者想了解其他品牌如OPPO、华为等机型，我很乐意为您详细介绍。您对手机有什么特别的需求吗？比如更注重拍照、游戏性能还是续航？\n",
      "第五步：判断回复给用户的内容是否对用户有用。结果：对用户有用。\n"
     ]
    }
   ],
   "source": [
    "input_message = '请问你们有除了小米还有哪些手机吗？能否给我推荐一下？'\n",
    "output_message = customer_service_assistant(user_message=input_message)"
   ]
  },
  {
   "cell_type": "code",
   "execution_count": 27,
   "id": "4bb2e637-0a42-489e-8fa6-c49a03c7e31b",
   "metadata": {},
   "outputs": [
    {
     "name": "stdout",
     "output_type": "stream",
     "text": [
      "您好！感谢您的咨询。除了小米手机外，我们还销售vivo品牌的手机。比如这款vivo X200 Pro就很不错：\n",
      "\n",
      "- 6.78英寸AMOLED大屏\n",
      "- 6000mAh大容量电池\n",
      "- 专业级摄影功能\n",
      "- 售价5299元\n",
      "\n",
      "这款手机特别适合喜欢拍照和追求大屏体验的用户。如果您对这款手机感兴趣，或者想了解其他品牌如OPPO、华为等机型，我很乐意为您详细介绍。您对手机有什么特别的需求吗？比如更注重拍照、游戏性能还是续航？\n"
     ]
    }
   ],
   "source": [
    "print(output_message)"
   ]
  },
  {
   "cell_type": "code",
   "execution_count": null,
   "id": "ed1bb0a3-9cc4-41e5-94e5-5c93d8c0ecb3",
   "metadata": {},
   "outputs": [],
   "source": []
  }
 ],
 "metadata": {
  "kernelspec": {
   "display_name": "myconda",
   "language": "python",
   "name": "myconda"
  },
  "language_info": {
   "codemirror_mode": {
    "name": "ipython",
    "version": 3
   },
   "file_extension": ".py",
   "mimetype": "text/x-python",
   "name": "python",
   "nbconvert_exporter": "python",
   "pygments_lexer": "ipython3",
   "version": "3.10.12"
  }
 },
 "nbformat": 4,
 "nbformat_minor": 5
}
