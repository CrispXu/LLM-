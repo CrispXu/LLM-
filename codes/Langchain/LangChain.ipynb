{
 "cells": [
  {
   "cell_type": "code",
   "execution_count": 15,
   "id": "d5efcd90-135c-4a23-9fa6-5537abff6c29",
   "metadata": {
    "collapsed": true,
    "jupyter": {
     "outputs_hidden": true
    },
    "tags": []
   },
   "outputs": [
    {
     "name": "stdout",
     "output_type": "stream",
     "text": [
      "Looking in indexes: https://pypi.tuna.tsinghua.edu.cn/simple\n",
      "Requirement already satisfied: langchain-openai in /root/miniconda3/envs/myconda/lib/python3.10/site-packages (0.3.10)\n",
      "Requirement already satisfied: langchain-core<1.0.0,>=0.3.48 in /root/miniconda3/envs/myconda/lib/python3.10/site-packages (from langchain-openai) (0.3.48)\n",
      "Requirement already satisfied: openai<2.0.0,>=1.68.2 in /root/miniconda3/envs/myconda/lib/python3.10/site-packages (from langchain-openai) (1.68.2)\n",
      "Requirement already satisfied: tiktoken<1,>=0.7 in /root/miniconda3/envs/myconda/lib/python3.10/site-packages (from langchain-openai) (0.9.0)\n",
      "Requirement already satisfied: langsmith<0.4,>=0.1.125 in /root/miniconda3/envs/myconda/lib/python3.10/site-packages (from langchain-core<1.0.0,>=0.3.48->langchain-openai) (0.3.18)\n",
      "Requirement already satisfied: tenacity!=8.4.0,<10.0.0,>=8.1.0 in /root/miniconda3/envs/myconda/lib/python3.10/site-packages (from langchain-core<1.0.0,>=0.3.48->langchain-openai) (8.2.3)\n",
      "Requirement already satisfied: jsonpatch<2.0,>=1.33 in /root/miniconda3/envs/myconda/lib/python3.10/site-packages (from langchain-core<1.0.0,>=0.3.48->langchain-openai) (1.33)\n",
      "Requirement already satisfied: PyYAML>=5.3 in /root/miniconda3/envs/myconda/lib/python3.10/site-packages (from langchain-core<1.0.0,>=0.3.48->langchain-openai) (6.0.2)\n",
      "Requirement already satisfied: packaging<25,>=23.2 in /root/miniconda3/envs/myconda/lib/python3.10/site-packages (from langchain-core<1.0.0,>=0.3.48->langchain-openai) (24.2)\n",
      "Requirement already satisfied: typing-extensions>=4.7 in /root/miniconda3/envs/myconda/lib/python3.10/site-packages (from langchain-core<1.0.0,>=0.3.48->langchain-openai) (4.12.2)\n",
      "Requirement already satisfied: pydantic<3.0.0,>=2.5.2 in /root/miniconda3/envs/myconda/lib/python3.10/site-packages (from langchain-core<1.0.0,>=0.3.48->langchain-openai) (2.10.6)\n",
      "Requirement already satisfied: anyio<5,>=3.5.0 in /root/miniconda3/envs/myconda/lib/python3.10/site-packages (from openai<2.0.0,>=1.68.2->langchain-openai) (4.9.0)\n",
      "Requirement already satisfied: distro<2,>=1.7.0 in /root/miniconda3/envs/myconda/lib/python3.10/site-packages (from openai<2.0.0,>=1.68.2->langchain-openai) (1.9.0)\n",
      "Requirement already satisfied: httpx<1,>=0.23.0 in /root/miniconda3/envs/myconda/lib/python3.10/site-packages (from openai<2.0.0,>=1.68.2->langchain-openai) (0.28.1)\n",
      "Requirement already satisfied: jiter<1,>=0.4.0 in /root/miniconda3/envs/myconda/lib/python3.10/site-packages (from openai<2.0.0,>=1.68.2->langchain-openai) (0.9.0)\n",
      "Requirement already satisfied: sniffio in /root/miniconda3/envs/myconda/lib/python3.10/site-packages (from openai<2.0.0,>=1.68.2->langchain-openai) (1.3.1)\n",
      "Requirement already satisfied: tqdm>4 in /root/miniconda3/envs/myconda/lib/python3.10/site-packages (from openai<2.0.0,>=1.68.2->langchain-openai) (4.66.1)\n",
      "Requirement already satisfied: regex>=2022.1.18 in /root/miniconda3/envs/myconda/lib/python3.10/site-packages (from tiktoken<1,>=0.7->langchain-openai) (2024.11.6)\n",
      "Requirement already satisfied: requests>=2.26.0 in /root/miniconda3/envs/myconda/lib/python3.10/site-packages (from tiktoken<1,>=0.7->langchain-openai) (2.31.0)\n",
      "Requirement already satisfied: exceptiongroup>=1.0.2 in /root/miniconda3/envs/myconda/lib/python3.10/site-packages (from anyio<5,>=3.5.0->openai<2.0.0,>=1.68.2->langchain-openai) (1.2.2)\n",
      "Requirement already satisfied: idna>=2.8 in /root/miniconda3/envs/myconda/lib/python3.10/site-packages (from anyio<5,>=3.5.0->openai<2.0.0,>=1.68.2->langchain-openai) (3.4)\n",
      "Requirement already satisfied: certifi in /root/miniconda3/envs/myconda/lib/python3.10/site-packages (from httpx<1,>=0.23.0->openai<2.0.0,>=1.68.2->langchain-openai) (2023.7.22)\n",
      "Requirement already satisfied: httpcore==1.* in /root/miniconda3/envs/myconda/lib/python3.10/site-packages (from httpx<1,>=0.23.0->openai<2.0.0,>=1.68.2->langchain-openai) (1.0.7)\n",
      "Requirement already satisfied: h11<0.15,>=0.13 in /root/miniconda3/envs/myconda/lib/python3.10/site-packages (from httpcore==1.*->httpx<1,>=0.23.0->openai<2.0.0,>=1.68.2->langchain-openai) (0.14.0)\n",
      "Requirement already satisfied: jsonpointer>=1.9 in /root/miniconda3/envs/myconda/lib/python3.10/site-packages (from jsonpatch<2.0,>=1.33->langchain-core<1.0.0,>=0.3.48->langchain-openai) (3.0.0)\n",
      "Requirement already satisfied: orjson<4.0.0,>=3.9.14 in /root/miniconda3/envs/myconda/lib/python3.10/site-packages (from langsmith<0.4,>=0.1.125->langchain-core<1.0.0,>=0.3.48->langchain-openai) (3.10.16)\n",
      "Requirement already satisfied: requests-toolbelt<2.0.0,>=1.0.0 in /root/miniconda3/envs/myconda/lib/python3.10/site-packages (from langsmith<0.4,>=0.1.125->langchain-core<1.0.0,>=0.3.48->langchain-openai) (1.0.0)\n",
      "Requirement already satisfied: zstandard<0.24.0,>=0.23.0 in /root/miniconda3/envs/myconda/lib/python3.10/site-packages (from langsmith<0.4,>=0.1.125->langchain-core<1.0.0,>=0.3.48->langchain-openai) (0.23.0)\n",
      "Requirement already satisfied: annotated-types>=0.6.0 in /root/miniconda3/envs/myconda/lib/python3.10/site-packages (from pydantic<3.0.0,>=2.5.2->langchain-core<1.0.0,>=0.3.48->langchain-openai) (0.7.0)\n",
      "Requirement already satisfied: pydantic-core==2.27.2 in /root/miniconda3/envs/myconda/lib/python3.10/site-packages (from pydantic<3.0.0,>=2.5.2->langchain-core<1.0.0,>=0.3.48->langchain-openai) (2.27.2)\n",
      "Requirement already satisfied: charset-normalizer<4,>=2 in /root/miniconda3/envs/myconda/lib/python3.10/site-packages (from requests>=2.26.0->tiktoken<1,>=0.7->langchain-openai) (3.2.0)\n",
      "Requirement already satisfied: urllib3<3,>=1.21.1 in /root/miniconda3/envs/myconda/lib/python3.10/site-packages (from requests>=2.26.0->tiktoken<1,>=0.7->langchain-openai) (1.26.16)\n",
      "\u001b[33mWARNING: Running pip as the 'root' user can result in broken permissions and conflicting behaviour with the system package manager. It is recommended to use a virtual environment instead: https://pip.pypa.io/warnings/venv\u001b[0m\u001b[33m\n",
      "\u001b[0mNote: you may need to restart the kernel to use updated packages.\n"
     ]
    }
   ],
   "source": [
    "pip install langchain-openai"
   ]
  },
  {
   "cell_type": "code",
   "execution_count": 2,
   "id": "cd53bb09-d8e3-4aed-9f17-cd950faa1bc8",
   "metadata": {
    "collapsed": true,
    "jupyter": {
     "outputs_hidden": true
    },
    "tags": []
   },
   "outputs": [
    {
     "name": "stdout",
     "output_type": "stream",
     "text": [
      "Looking in indexes: https://pypi.tuna.tsinghua.edu.cn/simple\n",
      "Requirement already satisfied: openai in /root/miniconda3/envs/myconda/lib/python3.10/site-packages (1.68.2)\n",
      "Requirement already satisfied: anyio<5,>=3.5.0 in /root/miniconda3/envs/myconda/lib/python3.10/site-packages (from openai) (4.9.0)\n",
      "Requirement already satisfied: distro<2,>=1.7.0 in /root/miniconda3/envs/myconda/lib/python3.10/site-packages (from openai) (1.9.0)\n",
      "Requirement already satisfied: httpx<1,>=0.23.0 in /root/miniconda3/envs/myconda/lib/python3.10/site-packages (from openai) (0.28.1)\n",
      "Requirement already satisfied: jiter<1,>=0.4.0 in /root/miniconda3/envs/myconda/lib/python3.10/site-packages (from openai) (0.9.0)\n",
      "Requirement already satisfied: pydantic<3,>=1.9.0 in /root/miniconda3/envs/myconda/lib/python3.10/site-packages (from openai) (2.10.6)\n",
      "Requirement already satisfied: sniffio in /root/miniconda3/envs/myconda/lib/python3.10/site-packages (from openai) (1.3.1)\n",
      "Requirement already satisfied: tqdm>4 in /root/miniconda3/envs/myconda/lib/python3.10/site-packages (from openai) (4.66.1)\n",
      "Requirement already satisfied: typing-extensions<5,>=4.11 in /root/miniconda3/envs/myconda/lib/python3.10/site-packages (from openai) (4.12.2)\n",
      "Requirement already satisfied: exceptiongroup>=1.0.2 in /root/miniconda3/envs/myconda/lib/python3.10/site-packages (from anyio<5,>=3.5.0->openai) (1.2.2)\n",
      "Requirement already satisfied: idna>=2.8 in /root/miniconda3/envs/myconda/lib/python3.10/site-packages (from anyio<5,>=3.5.0->openai) (3.4)\n",
      "Requirement already satisfied: certifi in /root/miniconda3/envs/myconda/lib/python3.10/site-packages (from httpx<1,>=0.23.0->openai) (2023.7.22)\n",
      "Requirement already satisfied: httpcore==1.* in /root/miniconda3/envs/myconda/lib/python3.10/site-packages (from httpx<1,>=0.23.0->openai) (1.0.7)\n",
      "Requirement already satisfied: h11<0.15,>=0.13 in /root/miniconda3/envs/myconda/lib/python3.10/site-packages (from httpcore==1.*->httpx<1,>=0.23.0->openai) (0.14.0)\n",
      "Requirement already satisfied: annotated-types>=0.6.0 in /root/miniconda3/envs/myconda/lib/python3.10/site-packages (from pydantic<3,>=1.9.0->openai) (0.7.0)\n",
      "Requirement already satisfied: pydantic-core==2.27.2 in /root/miniconda3/envs/myconda/lib/python3.10/site-packages (from pydantic<3,>=1.9.0->openai) (2.27.2)\n",
      "\u001b[33mWARNING: Running pip as the 'root' user can result in broken permissions and conflicting behaviour with the system package manager. It is recommended to use a virtual environment instead: https://pip.pypa.io/warnings/venv\u001b[0m\u001b[33m\n",
      "\u001b[0mNote: you may need to restart the kernel to use updated packages.\n"
     ]
    }
   ],
   "source": [
    "pip install openai"
   ]
  },
  {
   "cell_type": "code",
   "execution_count": null,
   "id": "ffc164da-4edc-4a7c-a5b9-f2481206092f",
   "metadata": {
    "tags": []
   },
   "outputs": [],
   "source": [
    "from langchain_openai.chat_models.base import BaseChatOpenAI"
   ]
  },
  {
   "cell_type": "code",
   "execution_count": 55,
   "id": "511b58d8-718a-4fc5-b274-73b43db0d8a8",
   "metadata": {
    "tags": []
   },
   "outputs": [],
   "source": [
    "# 初始化LLM\n",
    "llm = BaseChatOpenAI(\n",
    "    model='deepseek-chat',  # 使用DeepSeek聊天模型\n",
    "    openai_api_key='sk-b6de1e42df724c84b39a309c5788569d',  # 替换为你的API易API密钥\n",
    "    openai_api_base='https://api.deepseek.com',  # API易的端点\n",
    "    max_tokens=1024  # 设置最大生成token数\n",
    ")"
   ]
  },
  {
   "cell_type": "code",
   "execution_count": null,
   "id": "2af0d4ca-15aa-48eb-8066-07ddc0641767",
   "metadata": {
    "tags": []
   },
   "outputs": [],
   "source": [
    "response = llm.invoke(\"请介绍一下中国的人工智能发展现状\")\n",
    "print(response.content)"
   ]
  },
  {
   "cell_type": "code",
   "execution_count": 4,
   "id": "4e635200-33f5-41d7-8185-017230e42e48",
   "metadata": {
    "tags": []
   },
   "outputs": [
    {
     "name": "stdout",
     "output_type": "stream",
     "text": [
      "香港中文大学（深圳）（The Chinese University of Hong Kong, Shenzhen，简称CUHK-Shenzhen）是一所经教育部批准，由香港中文大学与深圳大学合作创办的具有独立法人资格的中外合作大学。学校位于广东省深圳市龙岗区，于2014年正式设立，秉承香港中文大学的学术传统和办学理念，致力于培养具有国际视野、创新精神和跨文化理解能力的高素质人才。\n",
      "\n",
      "### 学校特色\n",
      "1. **国际化教育**：采用全英文教学，师资团队来自全球知名高校，课程设置与国际接轨，提供丰富的国际交流机会。\n",
      "2. **书院制**：继承香港中文大学的书院传统，设有多个书院，注重全人教育，促进学生全面发展。\n",
      "3. **学科设置**：涵盖理工、经管、人文社科等领域，开设多个本科、硕士及博士项目，如计算机科学与技术、金融工程、数据科学等。\n",
      "4. **研究导向**：注重科研创新，设立多个研究院和实验室，与国内外高校及企业合作开展前沿研究。\n",
      "5. **地理位置**：地处深圳，享有粤港澳大湾区的区位优势，便于学生实习和就业。\n",
      "\n",
      "### 学术与生活\n",
      "- **师资力量**：教师大多具有海外顶尖大学博士学位或研究经历。\n",
      "- **校园设施**：现代化校园配备先进的教学、科研和生活设施，环境优美。\n",
      "- **就业与深造**：毕业生就业率高，多数进入知名企业或海外名校深造。\n",
      "\n",
      "### 合作与交流\n",
      "与全球多所高校建立合作关系，提供交换生、联合研究等项目，增强学生的国际竞争力。\n",
      "\n",
      "香港中文大学（深圳）是一所融合中西教育理念的高水平研究型大学，为学生提供优质的教育资源和广阔的发展平台。如需更多信息，可访问学校官网或查阅官方资料。\n"
     ]
    }
   ],
   "source": [
    "response = llm.invoke(\"请介绍一下香港中文大学（深圳）\")\n",
    "print(response.content)"
   ]
  },
  {
   "cell_type": "code",
   "execution_count": 18,
   "id": "ddec5a18-33a2-437f-9aaf-2e824a064fc2",
   "metadata": {
    "tags": []
   },
   "outputs": [
    {
     "name": "stdout",
     "output_type": "stream",
     "text": [
      "Looking in indexes: https://pypi.tuna.tsinghua.edu.cn/simple\n",
      "Requirement already satisfied: langchain in /root/miniconda3/envs/myconda/lib/python3.10/site-packages (0.3.21)\n",
      "Requirement already satisfied: langchain-core<1.0.0,>=0.3.45 in /root/miniconda3/envs/myconda/lib/python3.10/site-packages (from langchain) (0.3.48)\n",
      "Requirement already satisfied: langchain-text-splitters<1.0.0,>=0.3.7 in /root/miniconda3/envs/myconda/lib/python3.10/site-packages (from langchain) (0.3.7)\n",
      "Requirement already satisfied: langsmith<0.4,>=0.1.17 in /root/miniconda3/envs/myconda/lib/python3.10/site-packages (from langchain) (0.3.18)\n",
      "Requirement already satisfied: pydantic<3.0.0,>=2.7.4 in /root/miniconda3/envs/myconda/lib/python3.10/site-packages (from langchain) (2.10.6)\n",
      "Requirement already satisfied: SQLAlchemy<3,>=1.4 in /root/miniconda3/envs/myconda/lib/python3.10/site-packages (from langchain) (2.0.39)\n",
      "Requirement already satisfied: requests<3,>=2 in /root/miniconda3/envs/myconda/lib/python3.10/site-packages (from langchain) (2.31.0)\n",
      "Requirement already satisfied: PyYAML>=5.3 in /root/miniconda3/envs/myconda/lib/python3.10/site-packages (from langchain) (6.0.2)\n",
      "Requirement already satisfied: async-timeout<5.0.0,>=4.0.0 in /root/miniconda3/envs/myconda/lib/python3.10/site-packages (from langchain) (4.0.3)\n",
      "Requirement already satisfied: tenacity!=8.4.0,<10.0.0,>=8.1.0 in /root/miniconda3/envs/myconda/lib/python3.10/site-packages (from langchain-core<1.0.0,>=0.3.45->langchain) (8.2.3)\n",
      "Requirement already satisfied: jsonpatch<2.0,>=1.33 in /root/miniconda3/envs/myconda/lib/python3.10/site-packages (from langchain-core<1.0.0,>=0.3.45->langchain) (1.33)\n",
      "Requirement already satisfied: packaging<25,>=23.2 in /root/miniconda3/envs/myconda/lib/python3.10/site-packages (from langchain-core<1.0.0,>=0.3.45->langchain) (24.2)\n",
      "Requirement already satisfied: typing-extensions>=4.7 in /root/miniconda3/envs/myconda/lib/python3.10/site-packages (from langchain-core<1.0.0,>=0.3.45->langchain) (4.12.2)\n",
      "Requirement already satisfied: httpx<1,>=0.23.0 in /root/miniconda3/envs/myconda/lib/python3.10/site-packages (from langsmith<0.4,>=0.1.17->langchain) (0.28.1)\n",
      "Requirement already satisfied: orjson<4.0.0,>=3.9.14 in /root/miniconda3/envs/myconda/lib/python3.10/site-packages (from langsmith<0.4,>=0.1.17->langchain) (3.10.16)\n",
      "Requirement already satisfied: requests-toolbelt<2.0.0,>=1.0.0 in /root/miniconda3/envs/myconda/lib/python3.10/site-packages (from langsmith<0.4,>=0.1.17->langchain) (1.0.0)\n",
      "Requirement already satisfied: zstandard<0.24.0,>=0.23.0 in /root/miniconda3/envs/myconda/lib/python3.10/site-packages (from langsmith<0.4,>=0.1.17->langchain) (0.23.0)\n",
      "Requirement already satisfied: annotated-types>=0.6.0 in /root/miniconda3/envs/myconda/lib/python3.10/site-packages (from pydantic<3.0.0,>=2.7.4->langchain) (0.7.0)\n",
      "Requirement already satisfied: pydantic-core==2.27.2 in /root/miniconda3/envs/myconda/lib/python3.10/site-packages (from pydantic<3.0.0,>=2.7.4->langchain) (2.27.2)\n",
      "Requirement already satisfied: charset-normalizer<4,>=2 in /root/miniconda3/envs/myconda/lib/python3.10/site-packages (from requests<3,>=2->langchain) (3.2.0)\n",
      "Requirement already satisfied: idna<4,>=2.5 in /root/miniconda3/envs/myconda/lib/python3.10/site-packages (from requests<3,>=2->langchain) (3.4)\n",
      "Requirement already satisfied: urllib3<3,>=1.21.1 in /root/miniconda3/envs/myconda/lib/python3.10/site-packages (from requests<3,>=2->langchain) (1.26.16)\n",
      "Requirement already satisfied: certifi>=2017.4.17 in /root/miniconda3/envs/myconda/lib/python3.10/site-packages (from requests<3,>=2->langchain) (2023.7.22)\n",
      "Requirement already satisfied: greenlet!=0.4.17 in /root/miniconda3/envs/myconda/lib/python3.10/site-packages (from SQLAlchemy<3,>=1.4->langchain) (3.1.1)\n",
      "Requirement already satisfied: anyio in /root/miniconda3/envs/myconda/lib/python3.10/site-packages (from httpx<1,>=0.23.0->langsmith<0.4,>=0.1.17->langchain) (4.9.0)\n",
      "Requirement already satisfied: httpcore==1.* in /root/miniconda3/envs/myconda/lib/python3.10/site-packages (from httpx<1,>=0.23.0->langsmith<0.4,>=0.1.17->langchain) (1.0.7)\n",
      "Requirement already satisfied: h11<0.15,>=0.13 in /root/miniconda3/envs/myconda/lib/python3.10/site-packages (from httpcore==1.*->httpx<1,>=0.23.0->langsmith<0.4,>=0.1.17->langchain) (0.14.0)\n",
      "Requirement already satisfied: jsonpointer>=1.9 in /root/miniconda3/envs/myconda/lib/python3.10/site-packages (from jsonpatch<2.0,>=1.33->langchain-core<1.0.0,>=0.3.45->langchain) (3.0.0)\n",
      "Requirement already satisfied: exceptiongroup>=1.0.2 in /root/miniconda3/envs/myconda/lib/python3.10/site-packages (from anyio->httpx<1,>=0.23.0->langsmith<0.4,>=0.1.17->langchain) (1.2.2)\n",
      "Requirement already satisfied: sniffio>=1.1 in /root/miniconda3/envs/myconda/lib/python3.10/site-packages (from anyio->httpx<1,>=0.23.0->langsmith<0.4,>=0.1.17->langchain) (1.3.1)\n",
      "\u001b[33mWARNING: Running pip as the 'root' user can result in broken permissions and conflicting behaviour with the system package manager. It is recommended to use a virtual environment instead: https://pip.pypa.io/warnings/venv\u001b[0m\u001b[33m\n",
      "\u001b[0mNote: you may need to restart the kernel to use updated packages.\n"
     ]
    }
   ],
   "source": [
    "pip install langchain"
   ]
  },
  {
   "cell_type": "code",
   "execution_count": 46,
   "id": "6924cefc-3576-44a7-9df3-cf772fc037a9",
   "metadata": {
    "tags": []
   },
   "outputs": [],
   "source": [
    "from langchain.chains import LLMChain\n",
    "from langchain.prompts import PromptTemplate"
   ]
  },
  {
   "cell_type": "code",
   "execution_count": 9,
   "id": "7556a9e9-5acb-4976-b298-68d8baaa8525",
   "metadata": {
    "tags": []
   },
   "outputs": [
    {
     "name": "stdout",
     "output_type": "stream",
     "text": [
      "大模型（如GPT、视觉大模型等）在遥感领域的应用非常广泛，它们就像给卫星和无人机装上了“超级大脑”，让数据处理更智能、更高效。以下是几个通俗易懂的应用场景：\n",
      "\n",
      "---\n",
      "\n",
      "### 1. **自动解译图像——不用人工盯屏幕**\n",
      "   - **传统方式**：专家需要盯着卫星图片，手动标记道路、建筑、森林等。\n",
      "   - **大模型的作用**：通过训练海量遥感数据，大模型能自动识别地物类型（如农田、水体、城市），甚至检测违建、森林砍伐等变化，速度比人工快百倍。\n",
      "\n",
      "---\n",
      "\n",
      "### 2. **灾害监测——抢险救灾的“千里眼”**\n",
      "   - **例子**：洪涝、地震、山火发生时，大模型能快速分析受灾范围（比如淹没区域、倒塌房屋），帮助救援团队优先行动。\n",
      "   - **优势**：过去需要几小时的分析，现在几分钟就能出结果。\n",
      "\n",
      "---\n",
      "\n",
      "### 3. **农作物监测——给农田做“体检”**\n",
      "   - **应用**：通过分析卫星或无人机图像，大模型能判断作物长势、预估产量，还能发现病虫害（比如叶子变黄的区域）。\n",
      "   - **农民受益**：不用跑遍田地，就能知道哪里需要浇水施肥。\n",
      "\n",
      "---\n",
      "\n",
      "### 4. **城市规划——用AI画地图**\n",
      "   - **功能**：自动提取城市道路、建筑密度、绿地分布，帮助规划者优化交通、评估拆迁成本。\n",
      "   - **升级版**：结合历史数据，预测城市扩张趋势（比如哪里未来会变成开发区）。\n",
      "\n",
      "---\n",
      "\n",
      "### 5. **气候变化研究——追踪地球的“健康指标”**\n",
      "   - **例子**：分析几十年来的冰川融化、森林退化数据，大模型能总结规律，预测未来变化。\n",
      "   - **附加技能**：识别碳排放源（如工厂、油田），辅助环保政策制定。\n",
      "\n",
      "---\n",
      "\n",
      "### 6. **目标检测——军事与安全的“火眼金睛”**\n",
      "   - **用途**：自动识别军舰、飞机、导弹发射场等敏感目标，用于国防或边境监控。\n",
      "   - **隐蔽性**：还能发现伪装的目标（比如用绿布遮盖的装备）。\n",
      "\n",
      "---\n",
      "\n",
      "### 7. **数据增强——解决“样本少”的难题**\n",
      "   - **问题**：某些地区（如非洲）的遥感数据不足，难以训练模型。\n",
      "   - **大模型的解决方式**：通过生成合成图像（比如模拟干旱后的农田），补充训练数据，提升小样本下的准确率。\n",
      "\n",
      "---\n",
      "\n",
      "### 8. **多模态融合——结合文本、地图、传感器**\n",
      "   - **高级应用**：比如用大模型分析卫星图+气象数据+社交媒体文本，综合判断灾情（如台风后哪里缺物资）。\n",
      "\n",
      "---\n",
      "\n",
      "### 大模型的优势总结：\n",
      "- **快**：处理TB级数据只需几分钟。\n",
      "- **准**：识别精度接近人类专家。\n",
      "- **省**：减少90%以上人工标注成本。\n",
      "\n",
      "---\n",
      "\n",
      "### 挑战与未来：\n",
      "- **数据隐私**：敏感区域（如军事基地）图像需加密处理。\n",
      "- **小目标难题**：提高对电线杆、小船只等微小目标的识别。\n",
      "- **实时性**：未来可能实现“卫星拍完立刻出结果”。\n",
      "\n",
      "总之，大模型正在让遥感从“看图片”变成“懂图片”，未来甚至会主动预测灾害、规划城市，成为地球的“AI管家”。\n"
     ]
    }
   ],
   "source": [
    "#定义提示模版\n",
    "template = \"\"\"\n",
    "你是一个专业的{profession}。\n",
    "请针对以下问题提供专业的解答：\n",
    "{question}\n",
    "\n",
    "请以{tone}的语气回答。\n",
    "\"\"\"\n",
    "prompt = PromptTemplate(\n",
    "    input_variables = [\"profession\", \"question\", \"tone\"],\n",
    "    template = template\n",
    ")\n",
    "\n",
    "chain = LLMChain(llm = llm, prompt = prompt)\n",
    "\n",
    "result = chain.invoke({\n",
    "    \"profession\":\"遥感专家\",\n",
    "    \"question\":\"大模型在遥感领域有哪些应用\",\n",
    "    \"tone\":\"通俗易懂\"\n",
    "})\n",
    "print(result[\"text\"])"
   ]
  },
  {
   "cell_type": "code",
   "execution_count": 11,
   "id": "3aa63b31-6ba3-41c8-ab78-fdb5e94ae91c",
   "metadata": {
    "tags": []
   },
   "outputs": [],
   "source": [
    "from langchain_openai import ChatOpenAI\n",
    "\n",
    "# 配置 LangChain 的 ChatOpenAI\n",
    "chat = ChatOpenAI(\n",
    "    openai_api_key=\"sk-b6de1e42df724c84b39a309c5788569d\",\n",
    "    openai_api_base=\"https://api.deepseek.com/v1\",  # 必须包含 /v1\n",
    "    model_name=\"deepseek-chat\",\n",
    "    max_tokens=1024\n",
    ")"
   ]
  },
  {
   "cell_type": "code",
   "execution_count": 15,
   "id": "a41569ab-05b8-431c-991e-c1b8f5ced40a",
   "metadata": {
    "tags": []
   },
   "outputs": [
    {
     "name": "stdout",
     "output_type": "stream",
     "text": [
      "提示： content='\\n请从以下```包括的内容中提取以下信息。\\n姓名：提取所有的姓名，并将它们输出为逗号分隔的Python列表, 如果没有找到该信息，则输出none。\\n城市：提取所有的城市名称，并将它们输出为逗号分隔的Python列表, 如果没有找到该信息，则输出none。\\n\\n文本: ```\\n1609年9月11日，受聘于荷兰东印度公司的英国航海家亨利·哈德逊（Henry Hudson）乘船来到今纽约州探险，并将大量土产带回荷兰，许多荷兰商人对这片土地产生了浓厚兴趣，他们来到这里寻求与当地原住民进行贸易，并建立了殖民地“新荷兰”（New Netherland）。荷兰殖民者于1614年在新荷兰建立贸易点Fort Nassau（今奥尔巴尼市附近）；于1624年建立贸易点Fort Orange（今奥尔巴尼市）；于1625年建立贸易点Fort Amsterdam（今纽约市）。\\n```\\nThe output should be a markdown code snippet formatted in the following schema, including the leading and trailing \"```json\" and \"```\":\\n\\n```json\\n{\\n\\t\"姓名\": string  // 提取所有的姓名，并将它们输出为逗号分隔的Python列表, 如果没有找到该信息，则输出none。\\n\\t\"城市\": string  // 提取所有的城市名称，并将它们输出为逗号分隔的Python列表, 如果没有找到该信息，则输出none。\\n}\\n```\\n' additional_kwargs={} response_metadata={}\n",
      "结果: ```json\n",
      "{\n",
      "\t\"姓名\": \"亨利·哈德逊,Henry Hudson\",\n",
      "\t\"城市\": \"纽约州,奥尔巴尼市,纽约市\"\n",
      "}\n",
      "```\n",
      "解析后类型: <class 'dict'>\n",
      "解析后内容: {'姓名': '亨利·哈德逊,Henry Hudson', '城市': '纽约州,奥尔巴尼市,纽约市'}\n"
     ]
    }
   ],
   "source": [
    "from langchain.prompts import ChatPromptTemplate\n",
    "from langchain.output_parsers import ResponseSchema\n",
    "from langchain.output_parsers import StructuredOutputParser\n",
    "\n",
    "text = \"\"\"\n",
    "1609年9月11日，受聘于荷兰东印度公司的英国航海家亨利·哈德逊（Henry Hudson）乘船来到今纽约州探险，\\\n",
    "并将大量土产带回荷兰，许多荷兰商人对这片土地产生了浓厚兴趣，他们来到这里寻求与当地原住民进行贸易，\\\n",
    "并建立了殖民地“新荷兰”（New Netherland）。荷兰殖民者于1614年在新荷兰建立贸易点Fort Nassau（今奥尔巴尼市附近）；\\\n",
    "于1624年建立贸易点Fort Orange（今奥尔巴尼市）；于1625年建立贸易点Fort Amsterdam（今纽约市）。\n",
    "\"\"\"\n",
    "\n",
    "# step1：编写提示。\n",
    "prompt_template_str = \"\"\"\n",
    "请从以下```包括的内容中提取以下信息。\n",
    "姓名：提取所有的姓名，并将它们输出为逗号分隔的Python列表, 如果没有找到该信息，则输出none。\n",
    "城市：提取所有的城市名称，并将它们输出为逗号分隔的Python列表, 如果没有找到该信息，则输出none。\n",
    "\n",
    "文本: {text}\n",
    "{format_instructions}\n",
    "\"\"\"\n",
    "\n",
    "# step2：依据输出结构构造标准化输出模式类（ResponseSchema）与解析类（StructuredOutputParser）。\n",
    "name_schema = ResponseSchema(name=\"姓名\",\n",
    "                description=\"提取所有的姓名，并将它们输出为逗号分隔的Python列表, 如果没有找到该信息，则输出none。\")\n",
    "\n",
    "city_schema = ResponseSchema(name=\"城市\",\n",
    "                description=\"提取所有的城市名称，并将它们输出为逗号分隔的Python列表, 如果没有找到该信息，则输出none。\")\n",
    "response_schemas = [name_schema, city_schema]\n",
    "output_parser = StructuredOutputParser.from_response_schemas(response_schemas)\n",
    "\n",
    "# step3：依据StructuredOutputParser生成完整的提示。\n",
    "format_instructions = output_parser.get_format_instructions()\n",
    "prompt_template = ChatPromptTemplate.from_template(template=prompt_template_str)\n",
    "user_messages = prompt_template.format_messages(text=text, format_instructions=format_instructions)\n",
    "print('提示：', user_messages[0])\n",
    "\n",
    "\n",
    "# step4：完整的提示送入大模型返回结果。\n",
    "response = chat(user_messages)\n",
    "print(\"结果:\", response.content)\n",
    "\n",
    "# step5：依据StructuredOutputParser对输出的结果进行解析。\n",
    "response_dict = output_parser.parse(response.content)\n",
    "print(\"解析后类型:\", type(response_dict))\n",
    "print(\"解析后内容:\", response_dict)\n"
   ]
  },
  {
   "cell_type": "code",
   "execution_count": 6,
   "id": "5215012a-3759-4218-a061-db717030af48",
   "metadata": {
    "tags": []
   },
   "outputs": [],
   "source": [
    "from langchain.chains import ConversationChain\n",
    "from langchain.memory import ConversationBufferMemory\n",
    "\n",
    "memory = ConversationBufferMemory()\n",
    "conversation_chain = ConversationChain(llm=llm, memory=memory, verbose=True)"
   ]
  },
  {
   "cell_type": "code",
   "execution_count": 8,
   "id": "3119a12c-1d9c-4b31-ab08-1c6bdcb1ca4d",
   "metadata": {
    "tags": []
   },
   "outputs": [
    {
     "name": "stdout",
     "output_type": "stream",
     "text": [
      "\n",
      "\n",
      "\u001b[1m> Entering new ConversationChain chain...\u001b[0m\n",
      "Prompt after formatting:\n",
      "\u001b[32;1m\u001b[1;3mThe following is a friendly conversation between a human and an AI. The AI is talkative and provides lots of specific details from its context. If the AI does not know the answer to a question, it truthfully says it does not know.\n",
      "\n",
      "Current conversation:\n",
      "Human: Hello，my name is Crisp\n",
      "AI: Hello, Crisp! It's great to meet you. How can I assist you today? Whether you have questions, need advice, or just want to chat, I'm here to help. What's on your mind? 😊\n",
      "Human: Hello，my name is Crisp\n",
      "AI:\u001b[0m\n",
      "\n",
      "\u001b[1m> Finished chain.\u001b[0m\n"
     ]
    }
   ],
   "source": [
    "response = conversation_chain(\"Hello，my name is Crisp\")"
   ]
  },
  {
   "cell_type": "code",
   "execution_count": 9,
   "id": "67575ff7-5591-438e-b120-1edcee7cde0a",
   "metadata": {
    "tags": []
   },
   "outputs": [
    {
     "name": "stdout",
     "output_type": "stream",
     "text": [
      "\n",
      "\n",
      "\u001b[1m> Entering new ConversationChain chain...\u001b[0m\n",
      "Prompt after formatting:\n",
      "\u001b[32;1m\u001b[1;3mThe following is a friendly conversation between a human and an AI. The AI is talkative and provides lots of specific details from its context. If the AI does not know the answer to a question, it truthfully says it does not know.\n",
      "\n",
      "Current conversation:\n",
      "Human: Hello，my name is Crisp\n",
      "AI: Hello, Crisp! It's great to meet you. How can I assist you today? Whether you have questions, need advice, or just want to chat, I'm here to help. What's on your mind? 😊\n",
      "Human: Hello，my name is Crisp\n",
      "AI: Got it—your name is Crisp! 😊 (I see you repeated it, so I just wanted to acknowledge that.) Is there something specific you'd like to talk about or ask? I'm happy to help with anything from fun trivia to serious topics!\n",
      "Human: what is my name?\n",
      "AI:\u001b[0m\n",
      "\n",
      "\u001b[1m> Finished chain.\u001b[0m\n"
     ]
    },
    {
     "data": {
      "text/plain": [
       "'Your name is **Crisp**! You’ve mentioned it twice now, so I’ve got it locked in. 😊 Is there anything else you’d like to chat about or ask, Crisp? I’m all ears!'"
      ]
     },
     "execution_count": 9,
     "metadata": {},
     "output_type": "execute_result"
    }
   ],
   "source": [
    "conversation_chain.predict(input=\"what is my name?\")"
   ]
  },
  {
   "cell_type": "code",
   "execution_count": 10,
   "id": "1f86ccf9-892e-4678-bd3a-a4c08dbdf1ab",
   "metadata": {
    "tags": []
   },
   "outputs": [
    {
     "name": "stdout",
     "output_type": "stream",
     "text": [
      "\n",
      "\n",
      "\u001b[1m> Entering new ConversationChain chain...\u001b[0m\n",
      "Prompt after formatting:\n",
      "\u001b[32;1m\u001b[1;3mThe following is a friendly conversation between a human and an AI. The AI is talkative and provides lots of specific details from its context. If the AI does not know the answer to a question, it truthfully says it does not know.\n",
      "\n",
      "Current conversation:\n",
      "Human: Hello，my name is Crisp\n",
      "AI: Hello, Crisp! It's great to meet you. How can I assist you today? Whether you have questions, need advice, or just want to chat, I'm here to help. What's on your mind? 😊\n",
      "Human: Hello，my name is Crisp\n",
      "AI: Got it—your name is Crisp! 😊 (I see you repeated it, so I just wanted to acknowledge that.) Is there something specific you'd like to talk about or ask? I'm happy to help with anything from fun trivia to serious topics!\n",
      "Human: what is my name?\n",
      "AI: Your name is **Crisp**! You’ve mentioned it twice now, so I’ve got it locked in. 😊 Is there anything else you’d like to chat about or ask, Crisp? I’m all ears!\n",
      "Human: I'm a teacher,what about you?\n",
      "AI:\u001b[0m\n",
      "\n",
      "\u001b[1m> Finished chain.\u001b[0m\n"
     ]
    },
    {
     "data": {
      "text/plain": [
       "{'input': \"I'm a teacher,what about you?\",\n",
       " 'history': \"Human: Hello，my name is Crisp\\nAI: Hello, Crisp! It's great to meet you. How can I assist you today? Whether you have questions, need advice, or just want to chat, I'm here to help. What's on your mind? 😊\\nHuman: Hello，my name is Crisp\\nAI: Got it—your name is Crisp! 😊 (I see you repeated it, so I just wanted to acknowledge that.) Is there something specific you'd like to talk about or ask? I'm happy to help with anything from fun trivia to serious topics!\\nHuman: what is my name?\\nAI: Your name is **Crisp**! You’ve mentioned it twice now, so I’ve got it locked in. 😊 Is there anything else you’d like to chat about or ask, Crisp? I’m all ears!\",\n",
       " 'response': 'That’s wonderful, Crisp! Teachers play such an important role in shaping minds and futures—kudos to you! 👏  \\n\\nAs for me, I’m an AI designed to assist with information, answer questions, brainstorm ideas, or just keep you company in conversation. Think of me as a digital helper with a knack for details and a love of learning (though I don’t grade papers or manage a classroom… yet 😉).  \\n\\nWhat subject or grade level do you teach? I’d love to hear more about your work—or help with anything teaching-related! 📚✨'}"
      ]
     },
     "execution_count": 10,
     "metadata": {},
     "output_type": "execute_result"
    }
   ],
   "source": [
    "conversation_chain(\"I'm a teacher,what about you?\")"
   ]
  },
  {
   "cell_type": "code",
   "execution_count": 11,
   "id": "75c6f5d9-5b0f-4220-8431-b268d129c19a",
   "metadata": {
    "tags": []
   },
   "outputs": [
    {
     "name": "stdout",
     "output_type": "stream",
     "text": [
      "\n",
      "\n",
      "\u001b[1m> Entering new ConversationChain chain...\u001b[0m\n",
      "Prompt after formatting:\n",
      "\u001b[32;1m\u001b[1;3mThe following is a friendly conversation between a human and an AI. The AI is talkative and provides lots of specific details from its context. If the AI does not know the answer to a question, it truthfully says it does not know.\n",
      "\n",
      "Current conversation:\n",
      "Human: Hello，my name is Crisp\n",
      "AI: Hello, Crisp! It's great to meet you. How can I assist you today? Whether you have questions, need advice, or just want to chat, I'm here to help. What's on your mind? 😊\n",
      "Human: Hello，my name is Crisp\n",
      "AI: Got it—your name is Crisp! 😊 (I see you repeated it, so I just wanted to acknowledge that.) Is there something specific you'd like to talk about or ask? I'm happy to help with anything from fun trivia to serious topics!\n",
      "Human: what is my name?\n",
      "AI: Your name is **Crisp**! You’ve mentioned it twice now, so I’ve got it locked in. 😊 Is there anything else you’d like to chat about or ask, Crisp? I’m all ears!\n",
      "Human: I'm a teacher,what about you?\n",
      "AI: That’s wonderful, Crisp! Teachers play such an important role in shaping minds and futures—kudos to you! 👏  \n",
      "\n",
      "As for me, I’m an AI designed to assist with information, answer questions, brainstorm ideas, or just keep you company in conversation. Think of me as a digital helper with a knack for details and a love of learning (though I don’t grade papers or manage a classroom… yet 😉).  \n",
      "\n",
      "What subject or grade level do you teach? I’d love to hear more about your work—or help with anything teaching-related! 📚✨\n",
      "Human: So,do you remember what is my profession\n",
      "AI:\u001b[0m\n",
      "\n",
      "\u001b[1m> Finished chain.\u001b[0m\n"
     ]
    },
    {
     "data": {
      "text/plain": [
       "{'input': 'So,do you remember what is my profession',\n",
       " 'history': \"Human: Hello，my name is Crisp\\nAI: Hello, Crisp! It's great to meet you. How can I assist you today? Whether you have questions, need advice, or just want to chat, I'm here to help. What's on your mind? 😊\\nHuman: Hello，my name is Crisp\\nAI: Got it—your name is Crisp! 😊 (I see you repeated it, so I just wanted to acknowledge that.) Is there something specific you'd like to talk about or ask? I'm happy to help with anything from fun trivia to serious topics!\\nHuman: what is my name?\\nAI: Your name is **Crisp**! You’ve mentioned it twice now, so I’ve got it locked in. 😊 Is there anything else you’d like to chat about or ask, Crisp? I’m all ears!\\nHuman: I'm a teacher,what about you?\\nAI: That’s wonderful, Crisp! Teachers play such an important role in shaping minds and futures—kudos to you! 👏  \\n\\nAs for me, I’m an AI designed to assist with information, answer questions, brainstorm ideas, or just keep you company in conversation. Think of me as a digital helper with a knack for details and a love of learning (though I don’t grade papers or manage a classroom… yet 😉).  \\n\\nWhat subject or grade level do you teach? I’d love to hear more about your work—or help with anything teaching-related! 📚✨\",\n",
       " 'response': \"Of course, Crisp! You mentioned you're a **teacher**—a profession I deeply admire! 😊 Would you like to share more about your teaching experiences, or is there something teaching-related I can assist you with? Whether it’s lesson ideas, classroom tips, or just chatting about education, I’m here to help! 🍎📝\"}"
      ]
     },
     "execution_count": 11,
     "metadata": {},
     "output_type": "execute_result"
    }
   ],
   "source": [
    "conversation_chain(\"So,do you remember what is my profession\")"
   ]
  },
  {
   "cell_type": "code",
   "execution_count": 12,
   "id": "73884b4a-cdd0-4898-9e48-c7b60b5f161b",
   "metadata": {
    "tags": []
   },
   "outputs": [
    {
     "name": "stdout",
     "output_type": "stream",
     "text": [
      "\n",
      "\n",
      "\u001b[1m> Entering new ConversationChain chain...\u001b[0m\n",
      "Prompt after formatting:\n",
      "\u001b[32;1m\u001b[1;3mThe following is a friendly conversation between a human and an AI. The AI is talkative and provides lots of specific details from its context. If the AI does not know the answer to a question, it truthfully says it does not know.\n",
      "\n",
      "Current conversation:\n",
      "Human: Hello，my name is Crisp\n",
      "AI: Hello, Crisp! It's great to meet you. How can I assist you today? Whether you have questions, need advice, or just want to chat, I'm here to help. What's on your mind? 😊\n",
      "Human: Hello，my name is Crisp\n",
      "AI: Got it—your name is Crisp! 😊 (I see you repeated it, so I just wanted to acknowledge that.) Is there something specific you'd like to talk about or ask? I'm happy to help with anything from fun trivia to serious topics!\n",
      "Human: what is my name?\n",
      "AI: Your name is **Crisp**! You’ve mentioned it twice now, so I’ve got it locked in. 😊 Is there anything else you’d like to chat about or ask, Crisp? I’m all ears!\n",
      "Human: I'm a teacher,what about you?\n",
      "AI: That’s wonderful, Crisp! Teachers play such an important role in shaping minds and futures—kudos to you! 👏  \n",
      "\n",
      "As for me, I’m an AI designed to assist with information, answer questions, brainstorm ideas, or just keep you company in conversation. Think of me as a digital helper with a knack for details and a love of learning (though I don’t grade papers or manage a classroom… yet 😉).  \n",
      "\n",
      "What subject or grade level do you teach? I’d love to hear more about your work—or help with anything teaching-related! 📚✨\n",
      "Human: So,do you remember what is my profession\n",
      "AI: Of course, Crisp! You mentioned you're a **teacher**—a profession I deeply admire! 😊 Would you like to share more about your teaching experiences, or is there something teaching-related I can assist you with? Whether it’s lesson ideas, classroom tips, or just chatting about education, I’m here to help! 🍎📝\n",
      "Human: what is my profession?\n",
      "AI:\u001b[0m\n",
      "\n",
      "\u001b[1m> Finished chain.\u001b[0m\n"
     ]
    },
    {
     "data": {
      "text/plain": [
       "'You’ve told me twice now that you’re a **teacher**, Crisp! 🍎✏️ (I promise I’m paying attention—no pop quizzes needed! 😉)  \\n\\nIs there a reason you’re checking? Maybe you’d like to brainstorm teaching strategies, share a classroom story, or explore a new topic? Let me know how I can support you!'"
      ]
     },
     "execution_count": 12,
     "metadata": {},
     "output_type": "execute_result"
    }
   ],
   "source": [
    "conversation_chain.predict(input=\"what is my profession?\")"
   ]
  },
  {
   "cell_type": "code",
   "execution_count": 13,
   "id": "26a1b579-c3dc-4dd6-8ee8-d714d84f96d4",
   "metadata": {
    "tags": []
   },
   "outputs": [],
   "source": [
    "memory.clear()"
   ]
  },
  {
   "cell_type": "code",
   "execution_count": 14,
   "id": "f3f43e2b-a4a6-4baa-99c4-76510c646e8f",
   "metadata": {
    "tags": []
   },
   "outputs": [
    {
     "name": "stdout",
     "output_type": "stream",
     "text": [
      "\n",
      "\n",
      "\u001b[1m> Entering new ConversationChain chain...\u001b[0m\n",
      "Prompt after formatting:\n",
      "\u001b[32;1m\u001b[1;3mThe following is a friendly conversation between a human and an AI. The AI is talkative and provides lots of specific details from its context. If the AI does not know the answer to a question, it truthfully says it does not know.\n",
      "\n",
      "Current conversation:\n",
      "\n",
      "Human: what is my profession?\n",
      "AI:\u001b[0m\n",
      "\n",
      "\u001b[1m> Finished chain.\u001b[0m\n"
     ]
    },
    {
     "data": {
      "text/plain": [
       "\"Since I don't have access to personal information about you unless you share it with me, I don't know your profession. However, if you'd like to tell me, I'd be happy to chat about it or provide insights related to your field! What do you do for work? 😊\""
      ]
     },
     "execution_count": 14,
     "metadata": {},
     "output_type": "execute_result"
    }
   ],
   "source": [
    "conversation_chain.predict(input=\"what is my profession?\")"
   ]
  },
  {
   "cell_type": "code",
   "execution_count": 17,
   "id": "b8de67ab-0ea5-4a69-9f93-e9387067a47a",
   "metadata": {
    "tags": []
   },
   "outputs": [],
   "source": [
    "memory.clear()"
   ]
  },
  {
   "cell_type": "code",
   "execution_count": 36,
   "id": "108d601e-82f3-4057-8f1e-51b323fd12bb",
   "metadata": {
    "tags": []
   },
   "outputs": [],
   "source": [
    "from langchain.memory import ConversationBufferWindowMemory\n",
    "\n",
    "memory_window = ConversationBufferWindowMemory(k=1)\n",
    "conversation_chain_w = ConversationChain(llm=llm, memory=memory_window, verbose=True)"
   ]
  },
  {
   "cell_type": "code",
   "execution_count": 37,
   "id": "41c32d46-9e12-45b0-8006-ad3bc9b27898",
   "metadata": {
    "tags": []
   },
   "outputs": [],
   "source": [
    "memory_window.clear()"
   ]
  },
  {
   "cell_type": "code",
   "execution_count": 38,
   "id": "98818b3f-26bd-4660-be33-7d6648dd69b9",
   "metadata": {
    "tags": []
   },
   "outputs": [
    {
     "name": "stdout",
     "output_type": "stream",
     "text": [
      "对话一：\n",
      "\n",
      "\n",
      "\u001b[1m> Entering new ConversationChain chain...\u001b[0m\n",
      "Prompt after formatting:\n",
      "\u001b[32;1m\u001b[1;3mThe following is a friendly conversation between a human and an AI. The AI is talkative and provides lots of specific details from its context. If the AI does not know the answer to a question, it truthfully says it does not know.\n",
      "\n",
      "Current conversation:\n",
      "\n",
      "Human: my name is jack\n",
      "AI:\u001b[0m\n",
      "\n",
      "\u001b[1m> Finished chain.\u001b[0m\n",
      "Hi Jack! It's great to meet you. How's your day going so far? I'd love to hear what's on your mind—whether it's a question, a fun topic you want to discuss, or just a chat. Fire away! 😊  \n",
      "\n",
      "(For example: Are you working on anything interesting lately? Or maybe you have a favorite hobby or movie you'd like to share?)\n"
     ]
    }
   ],
   "source": [
    "print(\"对话一：\")\n",
    "print(conversation_chain_w.predict(input=\"my name is jack\"))"
   ]
  },
  {
   "cell_type": "code",
   "execution_count": 39,
   "id": "b7724054-5aab-47f8-ae46-fb5aa75f2306",
   "metadata": {
    "tags": []
   },
   "outputs": [
    {
     "name": "stdout",
     "output_type": "stream",
     "text": [
      "对话二：\n",
      "\n",
      "\n",
      "\u001b[1m> Entering new ConversationChain chain...\u001b[0m\n",
      "Prompt after formatting:\n",
      "\u001b[32;1m\u001b[1;3mThe following is a friendly conversation between a human and an AI. The AI is talkative and provides lots of specific details from its context. If the AI does not know the answer to a question, it truthfully says it does not know.\n",
      "\n",
      "Current conversation:\n",
      "Human: my name is jack\n",
      "AI: Hi Jack! It's great to meet you. How's your day going so far? I'd love to hear what's on your mind—whether it's a question, a fun topic you want to discuss, or just a chat. Fire away! 😊  \n",
      "\n",
      "(For example: Are you working on anything interesting lately? Or maybe you have a favorite hobby or movie you'd like to share?)\n",
      "Human: what is the result of 1 plus 1?\n",
      "AI:\u001b[0m\n",
      "\n",
      "\u001b[1m> Finished chain.\u001b[0m\n",
      "The result of 1 plus 1 is **2**! It's one of the first math facts many of us learn. 😊  \n",
      "\n",
      "Fun side note: In binary (base-2), 1 + 1 equals **10**, because binary only uses 0 and 1, and the value \"rolls over\" like a car odometer. But in everyday decimal math, it’s always 2!  \n",
      "\n",
      "Let me know if you'd like to explore more math—I’m happy to help!\n"
     ]
    }
   ],
   "source": [
    "print(\"对话二：\")\n",
    "print(conversation_chain_w.predict(input=\"what is the result of 1 plus 1?\"))"
   ]
  },
  {
   "cell_type": "code",
   "execution_count": 41,
   "id": "acc51481-cbe8-47f8-a8b7-586b840612c3",
   "metadata": {
    "tags": []
   },
   "outputs": [
    {
     "name": "stdout",
     "output_type": "stream",
     "text": [
      "对话三：\n",
      "\n",
      "\n",
      "\u001b[1m> Entering new ConversationChain chain...\u001b[0m\n",
      "Prompt after formatting:\n",
      "\u001b[32;1m\u001b[1;3mThe following is a friendly conversation between a human and an AI. The AI is talkative and provides lots of specific details from its context. If the AI does not know the answer to a question, it truthfully says it does not know.\n",
      "\n",
      "Current conversation:\n",
      "Human: what is the result of 1 plus 1?\n",
      "AI: The result of 1 plus 1 is **2**! It's one of the first math facts many of us learn. 😊  \n",
      "\n",
      "Fun side note: In binary (base-2), 1 + 1 equals **10**, because binary only uses 0 and 1, and the value \"rolls over\" like a car odometer. But in everyday decimal math, it’s always 2!  \n",
      "\n",
      "Let me know if you'd like to explore more math—I’m happy to help!\n",
      "Human: what is my name?\n",
      "AI:\u001b[0m\n",
      "\n",
      "\u001b[1m> Finished chain.\u001b[0m\n",
      "I don’t know your name—I don’t have access to personal information unless you share it with me. But I’d be happy to call you by any name or nickname you’d like! 😊 What should I call you?\n"
     ]
    }
   ],
   "source": [
    "print(\"对话三：\")\n",
    "print(conversation_chain_w.predict(input=\"what is my name?\"))"
   ]
  },
  {
   "cell_type": "code",
   "execution_count": 62,
   "id": "2c147ff5-0256-4e8c-ad4c-6e03e6c4641a",
   "metadata": {
    "tags": []
   },
   "outputs": [],
   "source": [
    "from langchain.prompts import ChatPromptTemplate\n",
    "from langchain.chains import LLMChain\n",
    "prompt = ChatPromptTemplate.from_template(\"请用一句话描述算法{algorithm_name}的主要原理。\")\n",
    "chain = LLMChain(llm=llm, prompt=prompt)"
   ]
  },
  {
   "cell_type": "code",
   "execution_count": 66,
   "id": "9467e363-8e4a-4c56-9d42-a6af9137d947",
   "metadata": {
    "tags": []
   },
   "outputs": [
    {
     "data": {
      "text/plain": [
       "'DeepSeek的核心原理是基于**深度学习的Transformer架构**，通过大规模预训练与精细调优，结合高效的注意力机制和海量数据，实现强大的自然语言理解与生成能力。'"
      ]
     },
     "execution_count": 66,
     "metadata": {},
     "output_type": "execute_result"
    }
   ],
   "source": [
    "algorithm_name = \"DeepSeek\"\n",
    "chain.run(algorithm_name)"
   ]
  },
  {
   "cell_type": "code",
   "execution_count": 67,
   "id": "75566921-8a6c-42f1-821f-dfa036cb6fe6",
   "metadata": {
    "tags": []
   },
   "outputs": [],
   "source": [
    "from langchain.chains import SimpleSequentialChain\n",
    "\n",
    "# 链1：输入算法名称，输出简要介绍。\n",
    "first_prompt = ChatPromptTemplate.from_template(\n",
    "    \"请用一句话描述算法{algorithm_name}的主要原理。\"\n",
    ")\n",
    "chain_one = LLMChain(llm=llm, prompt=first_prompt)\n",
    "\n",
    "# 链2：输入算法简要介绍，输出英语简要介绍。\n",
    "second_prompt = ChatPromptTemplate.from_template(\n",
    "    \"请将以下文本翻译成英语，\\\n",
    "    文本：{algorithm_desciption}\"\n",
    ")\n",
    "chain_two = LLMChain(llm=llm, prompt=second_prompt)\n",
    "overall_simple_chain = SimpleSequentialChain(chains=[chain_one, chain_two], verbose=True)"
   ]
  },
  {
   "cell_type": "code",
   "execution_count": 68,
   "id": "b6efcb98-b9e1-4658-8e75-1c1336cbd536",
   "metadata": {
    "tags": []
   },
   "outputs": [
    {
     "name": "stdout",
     "output_type": "stream",
     "text": [
      "\n",
      "\n",
      "\u001b[1m> Entering new SimpleSequentialChain chain...\u001b[0m\n",
      "\u001b[36;1m\u001b[1;3mTransformer的核心原理是通过自注意力机制（Self-Attention）并行计算输入序列中所有位置的关系权重，动态聚合全局信息以生成上下文感知的表示。\u001b[0m\n",
      "\u001b[33;1m\u001b[1;3mThe core principle of Transformer is to compute relationship weights between all positions in the input sequence in parallel through the self-attention mechanism, dynamically aggregating global information to generate context-aware representations.  \n",
      "\n",
      "（注：根据技术文献惯例，\"Self-Attention\"保留首字母大写；\"Transformer\"作为模型名称保留首字母大写；采用\"aggregating\"现在分词形式体现动态过程；\"context-aware\"为机器学习领域标准术语连字符用法）\u001b[0m\n",
      "\n",
      "\u001b[1m> Finished chain.\u001b[0m\n"
     ]
    },
    {
     "data": {
      "text/plain": [
       "'The core principle of Transformer is to compute relationship weights between all positions in the input sequence in parallel through the self-attention mechanism, dynamically aggregating global information to generate context-aware representations.  \\n\\n（注：根据技术文献惯例，\"Self-Attention\"保留首字母大写；\"Transformer\"作为模型名称保留首字母大写；采用\"aggregating\"现在分词形式体现动态过程；\"context-aware\"为机器学习领域标准术语连字符用法）'"
      ]
     },
     "execution_count": 68,
     "metadata": {},
     "output_type": "execute_result"
    }
   ],
   "source": [
    "algorithm_name = \"Transformer\"\n",
    "overall_simple_chain.run(algorithm_name)"
   ]
  },
  {
   "cell_type": "code",
   "execution_count": 69,
   "id": "4d96f033-15f4-4a31-9109-0a087f45a8f6",
   "metadata": {
    "tags": []
   },
   "outputs": [
    {
     "name": "stdout",
     "output_type": "stream",
     "text": [
      "\n",
      "\n",
      "\u001b[1m> Entering new SimpleSequentialChain chain...\u001b[0m\n",
      "\u001b[36;1m\u001b[1;3mCNN通过局部感受野、权值共享和池化操作，逐层提取输入数据的空间特征并进行降维，最终实现高效的特征表达与分类。\u001b[0m\n",
      "\u001b[33;1m\u001b[1;3mCNNs efficiently extract spatial features from input data and reduce dimensionality through localized receptive fields, weight sharing, and pooling operations layer by layer, ultimately achieving effective feature representation and classification.  \n",
      "\n",
      "（翻译说明：  \n",
      "1. 专业术语准确处理：\"局部感受野\"→\"localized receptive fields\"；\"权值共享\"→\"weight sharing\"；\"池化操作\"→\"pooling operations\"  \n",
      "2. 逻辑显化：将原文隐含的因果关系通过\"through\"明确表达  \n",
      "3. 动词优化：\"逐层提取\"译为\"extract...layer by layer\"更符合英文技术文本表述习惯  \n",
      "4. 语态调整：采用主动语态（achieving）保持与原文一致的客观陈述风格  \n",
      "5. 术语一致性：严格保持\"CNN\"、\"pooling\"等专业缩写形式  \n",
      "6. 句式重组：将长句拆分为符合英文科技文本特点的紧凑结构，同时保留原文信息密度）\u001b[0m\n",
      "\n",
      "\u001b[1m> Finished chain.\u001b[0m\n"
     ]
    },
    {
     "data": {
      "text/plain": [
       "'CNNs efficiently extract spatial features from input data and reduce dimensionality through localized receptive fields, weight sharing, and pooling operations layer by layer, ultimately achieving effective feature representation and classification.  \\n\\n（翻译说明：  \\n1. 专业术语准确处理：\"局部感受野\"→\"localized receptive fields\"；\"权值共享\"→\"weight sharing\"；\"池化操作\"→\"pooling operations\"  \\n2. 逻辑显化：将原文隐含的因果关系通过\"through\"明确表达  \\n3. 动词优化：\"逐层提取\"译为\"extract...layer by layer\"更符合英文技术文本表述习惯  \\n4. 语态调整：采用主动语态（achieving）保持与原文一致的客观陈述风格  \\n5. 术语一致性：严格保持\"CNN\"、\"pooling\"等专业缩写形式  \\n6. 句式重组：将长句拆分为符合英文科技文本特点的紧凑结构，同时保留原文信息密度）'"
      ]
     },
     "execution_count": 69,
     "metadata": {},
     "output_type": "execute_result"
    }
   ],
   "source": [
    "algorithm_name = \"CNN\"\n",
    "overall_simple_chain.run(algorithm_name)"
   ]
  },
  {
   "cell_type": "code",
   "execution_count": 70,
   "id": "a72a8c8a-8820-4e8e-a3b0-803b372b790a",
   "metadata": {
    "tags": []
   },
   "outputs": [],
   "source": [
    "import pandas as pd\n",
    "from langchain.chains import SequentialChain\n",
    "from langchain.prompts import ChatPromptTemplate   #导入聊天提示模板\n",
    "from langchain.chains import LLMChain    #导入LLM链。\n",
    "\n",
    "#子链1  输入：review 输出：english_review\n",
    "first_prompt = ChatPromptTemplate.from_template(\n",
    "    \"把下面的评论review翻译成英文:\"\n",
    "    \"\\n\\n{review}\"\n",
    ")\n",
    "chain_one = LLMChain(llm=llm, prompt=first_prompt, output_key=\"english_review\")\n",
    "\n",
    "#子链2  输入：english_review 输出：summary\n",
    "second_prompt = ChatPromptTemplate.from_template(\n",
    "    \"请你用一句话来总结下面的评论review:\"\n",
    "    \"\\n\\n{english_review}\"\n",
    ")\n",
    "chain_two = LLMChain(llm=llm, prompt=second_prompt, output_key=\"summary\")\n",
    "\n",
    "\n",
    "#子链3  输入：review 输出：language\n",
    "third_prompt = ChatPromptTemplate.from_template(\n",
    "    \"下面的评论review使用的什么语言:\\n\\n{review}\"\n",
    ")\n",
    "chain_three = LLMChain(llm=llm, prompt=third_prompt, output_key=\"language\")\n",
    "\n",
    "\n",
    "#子链4  输入：summary&language 输出：followup_message\n",
    "fourth_prompt = ChatPromptTemplate.from_template(\n",
    "    \"使用特定的语言对下面的总结写一个后续回复:\"\n",
    "    \"\\n\\n总结: {summary}\\n\\n语言: {language}\"\n",
    ")\n",
    "chain_four = LLMChain(llm=llm, prompt=fourth_prompt, output_key=\"followup_message\")"
   ]
  },
  {
   "cell_type": "code",
   "execution_count": 71,
   "id": "a5ab9e1f-b8a4-4ad5-9907-16580fc13dff",
   "metadata": {
    "tags": []
   },
   "outputs": [],
   "source": [
    "#输入：review\n",
    "#输出：english_review, summary, language, followup_message\n",
    "overall_chain = SequentialChain(\n",
    "    chains=[chain_one, chain_two, chain_three, chain_four],\n",
    "    input_variables=[\"review\"],\n",
    "    output_variables=[\"english_review\", \"summary\", \"language\", \"followup_message\"],\n",
    "    verbose=True\n",
    ")"
   ]
  },
  {
   "cell_type": "code",
   "execution_count": 72,
   "id": "df04d42a-2bb2-4ce4-a784-a08efa34e989",
   "metadata": {
    "tags": []
   },
   "outputs": [
    {
     "name": "stdout",
     "output_type": "stream",
     "text": [
      "\n",
      "\n",
      "\u001b[1m> Entering new SequentialChain chain...\u001b[0m\n",
      "\n",
      "\u001b[1m> Finished chain.\u001b[0m\n"
     ]
    },
    {
     "data": {
      "text/plain": [
       "{'review': '\\n上周我买了这个手机，产品质量非常好，而且送货速递很快，第二天就送到了，店家服务态度也很好，总体而言，很不错的购物体验，下次有需求还会来买。\\n',\n",
       " 'english_review': 'Here’s the English translation of your review:  \\n\\n**\"Last week I bought this phone, and the product quality is excellent. The delivery was also very fast—it arrived the next day. The store’s customer service was great too. Overall, it was a very satisfying shopping experience, and I’ll definitely buy from them again if I need anything in the future.\"**  \\n\\nLet me know if you\\'d like any adjustments!',\n",
       " 'summary': '\"Highly satisfied with the excellent product quality, fast delivery, and great customer service—will definitely purchase again!\"',\n",
       " 'language': '这篇评论使用的是**简体中文**。  \\n\\n具体分析：  \\n1. **词汇与句式**：如“产品质量非常好”“送货速递很快”“服务态度”等均为典型的中文表达。  \\n2. **用词习惯**：使用“速递”（快递）、“店家”（商家）等中国大陆常用词汇。  \\n3. **无外来语混用**：全文无英文或其他语言夹杂，符合纯中文评论特征。  \\n\\n结论：明确为**现代标准汉语（简体中文）**，可能来自中国大陆或使用简体中文的消费者。',\n",
       " 'followup_message': '以下是基于总结的简体中文后续回复建议：\\n\\n---\\n感谢您的大力支持！您的满意是我们最大的动力～  \\n我们始终坚持严控产品质量、优化物流效率，并为每位顾客提供贴心服务。  \\n期待您的再次光临，有任何需求随时联系客服，祝您生活愉快！  \\n\\n（附：新会员可领10元优惠券，下次购物输入码【VIP2024】立享折扣哦✨）  \\n---\\n\\n**设计思路**：  \\n1. **情感呼应**：用“大力支持”“最大动力”延续原评论的热情语气  \\n2. **要素对应**：  \\n   - “严控质量” → 回应“产品质量非常好”  \\n   - “优化物流” → 对应“送货速递很快”  \\n   - “贴心服务” → 延续“服务态度”好评  \\n3. **本土化细节**：  \\n   - 使用波浪号“～”增强亲切感（中文电商常见）  \\n   - 优惠券金额用“元”而非“¥”符号  \\n   - 促销码采用中文+数字组合（大陆电商典型格式）  \\n4. **转化引导**：通过专属优惠码促进复购，符合中文电商客服话术习惯'}"
      ]
     },
     "execution_count": 72,
     "metadata": {},
     "output_type": "execute_result"
    }
   ],
   "source": [
    "review = \"\"\"\n",
    "上周我买了这个手机，产品质量非常好，而且送货速递很快，第二天就送到了，店家服务态度也很好，总体而言，很不错的购物体验，下次有需求还会来买。\n",
    "\"\"\"\n",
    "overall_chain(review)"
   ]
  },
  {
   "cell_type": "code",
   "execution_count": 73,
   "id": "3378db8a-4914-45d8-9361-43f6484b03e7",
   "metadata": {
    "tags": []
   },
   "outputs": [
    {
     "name": "stdout",
     "output_type": "stream",
     "text": [
      "\n",
      "\n",
      "\u001b[1m> Entering new SequentialChain chain...\u001b[0m\n",
      "\n",
      "\u001b[1m> Finished chain.\u001b[0m\n"
     ]
    },
    {
     "data": {
      "text/plain": [
       "{'review': '\\n上周我买了这个手机，产品质量非常差，而且送货速递很慢，店家服务态度也不好，总体而言，很不满意的购物体验，下次不会再来了。\\n',\n",
       " 'english_review': 'Here is the English translation of the review:  \\n\\n**\"Last week I bought this phone, but the product quality is very poor. The delivery was also very slow, and the store\\'s customer service attitude was bad. Overall, it was a very unsatisfactory shopping experience—I won’t be coming back next time.\"**  \\n\\nLet me know if you\\'d like any adjustments!',\n",
       " 'summary': '\"Poor product quality, slow delivery, and bad customer service made for a highly unsatisfactory shopping experience.\"  \\n\\n(Alternatively, for more conciseness: *\"Terrible product, slow shipping, and rude service—a disappointing purchase.\"*)  \\n\\nLet me know if you\\'d prefer a different tone!',\n",
       " 'language': '这篇评论使用的是**简体中文**。  \\n\\n具体分析：  \\n1. **文字特征**：使用简体汉字（如“买”“质”“货”等），符合中国大陆的用字标准。  \\n2. **表达习惯**：  \\n   - 词汇如“产品质量”“送货速递”“服务态度”是典型的中文电商评价用语。  \\n   - 句式结构（如“总体而言……下次不会再来了”）是中文常见的总结性表达。  \\n3. **文化语境**：提及“店家”“购物体验”等词汇，符合中文电商平台的评论风格。  \\n\\n如果是其他语言（如繁体中文或日文），用词和句式会有明显差异（例如繁体中文可能用“品質”“送貨速度”）。',\n",
       " 'followup_message': '以下是根据简体中文语境和电商差评风格设计的后续回复模板，提供两种版本供选择：\\n\\n---\\n\\n**正式版（适用于平台客服）**  \\n\"尊敬的顾客，非常抱歉给您带来不愉快的购物体验。我们已记录您反馈的产品质量、物流时效及服务态度问题，将立即联系相关部门整改。为表歉意，客服将在24小时内与您联系协商解决方案（如补发/退款）。您的监督是我们改进的动力，恳请给我们一次弥补的机会。\"  \\n\\n**简洁版（适用于商家直接回复）**  \\n\"实在对不起！您说的问题我们已紧急核查：1. 质量问题商品可免费退货 2. 物流延迟系合作快递异常，现已切换备用物流 3. 涉事客服已停职培训。稍后店长将亲自致电处理，能否加您微信发送补偿券？盼能挽回您的信任。\"  \\n\\n---\\n\\n**回复设计要点说明**：  \\n1. **用词精准**  \\n   - 使用\"物流时效\"\"补发/退款\"等大陆电商高频术语  \\n   - \"整改\"\"涉事\"\"停职培训\"体现严肃处理态度  \\n\\n2. **结构符合中文习惯**  \\n   - 分点回应（1. 2. 3.）增强条理性  \\n   - 结尾主动提出\"加微信\"符合国内私域流量处理惯例  \\n\\n3. **文化适配**  \\n   - \"恳请\"\"盼能\"等谦辞符合中文客套规范  \\n   - 提及\"店长亲自处理\"突显重视程度（国内消费者较看重管理层介入）  \\n\\n需要调整语气或补充细节可随时告知，例如加入\"根据《消费者权益保护法》第24条为您办理退货\"等法律依据增强说服力。'}"
      ]
     },
     "execution_count": 73,
     "metadata": {},
     "output_type": "execute_result"
    }
   ],
   "source": [
    "review = \"\"\"\n",
    "上周我买了这个手机，产品质量非常差，而且送货速递很慢，店家服务态度也不好，总体而言，很不满意的购物体验，下次不会再来了。\n",
    "\"\"\"\n",
    "overall_chain(review)"
   ]
  },
  {
   "cell_type": "code",
   "execution_count": 74,
   "id": "51c29a7e-8501-4dcb-bf17-01077048fac7",
   "metadata": {
    "tags": []
   },
   "outputs": [],
   "source": [
    "from langchain.chains.router import MultiPromptChain  #导入多提示链\n",
    "from langchain.chains.router.llm_router import LLMRouterChain,RouterOutputParser\n",
    "from langchain.prompts import PromptTemplate\n",
    "from langchain.chains import LLMChain    #导入LLM链。\n",
    "from langchain.prompts import ChatPromptTemplate"
   ]
  },
  {
   "cell_type": "code",
   "execution_count": 75,
   "id": "6c17b454-4564-4765-b835-c1b6d17b8823",
   "metadata": {
    "tags": []
   },
   "outputs": [],
   "source": [
    "#### 目标链提示模板\n",
    "\n",
    "#第一个提示适合回答物理问题\n",
    "physics_template = \"\"\"你是一个非常聪明的物理专家。 \\\n",
    "你擅长用一种简洁并且易于理解的方式去回答问题。\\\n",
    "当你不知道问题的答案时，你承认\\\n",
    "你不知道.\n",
    "\n",
    "这是一个问题:\n",
    "{input}\"\"\"\n",
    "\n",
    "\n",
    "#第二个提示适合回答数学问题\n",
    "math_template = \"\"\"你是一个非常优秀的数学家。 \\\n",
    "你擅长回答数学问题。 \\\n",
    "你之所以如此优秀， \\\n",
    "是因为你能够将棘手的问题分解为组成部分，\\\n",
    "回答组成部分，然后将它们组合在一起，回答更广泛的问题。\n",
    "\n",
    "这是一个问题：\n",
    "{input}\"\"\"\n",
    "\n",
    "\n",
    "#第三个适合回答历史问题\n",
    "history_template = \"\"\"你是以为非常优秀的历史学家。 \\\n",
    "你对一系列历史时期的人物、事件和背景有着极好的学识和理解\\\n",
    "你有能力思考、反思、辩证、讨论和评估过去。\\\n",
    "你尊重历史证据，并有能力利用它来支持你的解释和判断。\n",
    "\n",
    "这是一个问题:\n",
    "{input}\"\"\"\n",
    "\n",
    "\n",
    "#第四个适合回答计算机问题\n",
    "computerscience_template = \"\"\" 你是一个成功的计算机科学专家。\\\n",
    "你有创造力、协作精神、\\\n",
    "前瞻性思维、自信、解决问题的能力、\\\n",
    "对理论和算法的理解以及出色的沟通技巧。\\\n",
    "你非常擅长回答编程问题。\\\n",
    "你之所以如此优秀，是因为你知道  \\\n",
    "如何通过以机器可以轻松解释的命令式步骤描述解决方案来解决问题，\\\n",
    "并且你知道如何选择在时间复杂性和空间复杂性之间取得良好平衡的解决方案。\n",
    "\n",
    "这还是一个输入：\n",
    "{input}\"\"\""
   ]
  },
  {
   "cell_type": "code",
   "execution_count": 76,
   "id": "02431035-d3af-4744-bf63-9874296d18cf",
   "metadata": {
    "tags": []
   },
   "outputs": [],
   "source": [
    "#### 目标链名称、描述、提示模板\n",
    "prompt_infos = [\n",
    "    {\n",
    "        \"名字\": \"物理学\",\n",
    "        \"描述\": \"擅长回答关于物理学的问题\",\n",
    "        \"提示模板\": physics_template\n",
    "    },\n",
    "    {\n",
    "        \"名字\": \"数学\",\n",
    "        \"描述\": \"擅长回答数学问题\",\n",
    "        \"提示模板\": math_template\n",
    "    },\n",
    "    {\n",
    "        \"名字\": \"历史\",\n",
    "        \"描述\": \"擅长回答历史问题\",\n",
    "        \"提示模板\": history_template\n",
    "    },\n",
    "    {\n",
    "        \"名字\": \"计算机科学\",\n",
    "        \"描述\": \"擅长回答计算机科学问题\",\n",
    "        \"提示模板\": computerscience_template\n",
    "    }\n",
    "]"
   ]
  },
  {
   "cell_type": "code",
   "execution_count": 77,
   "id": "2a9b4c4a-8523-4b27-b617-ee110f29e4b8",
   "metadata": {
    "tags": []
   },
   "outputs": [],
   "source": [
    "#### 构造目标链\n",
    "destination_chains = {}\n",
    "for p_info in prompt_infos:\n",
    "    name = p_info[\"名字\"]\n",
    "    prompt_template = p_info[\"提示模板\"]\n",
    "    prompt = ChatPromptTemplate.from_template(template=prompt_template)\n",
    "    chain = LLMChain(llm=llm, prompt=prompt)\n",
    "    destination_chains[name] = chain\n",
    "\n",
    "destinations = [f\"{p['名字']}: {p['描述']}\" for p in prompt_infos]\n",
    "destinations_str = \"\\n\".join(destinations)"
   ]
  },
  {
   "cell_type": "code",
   "execution_count": 78,
   "id": "0847c55f-f229-45dc-93a1-2fec56651d50",
   "metadata": {
    "tags": []
   },
   "outputs": [
    {
     "data": {
      "text/plain": [
       "['物理学: 擅长回答关于物理学的问题', '数学: 擅长回答数学问题', '历史: 擅长回答历史问题', '计算机科学: 擅长回答计算机科学问题']"
      ]
     },
     "execution_count": 78,
     "metadata": {},
     "output_type": "execute_result"
    }
   ],
   "source": [
    "destinations"
   ]
  },
  {
   "cell_type": "code",
   "execution_count": 79,
   "id": "bed1dea9-707d-4741-8d4b-30cb2969ed9b",
   "metadata": {
    "tags": []
   },
   "outputs": [],
   "source": [
    "#### 构造默认链\n",
    "default_prompt = ChatPromptTemplate.from_template(\"{input}\")\n",
    "default_chain = LLMChain(llm=llm, prompt=default_prompt)"
   ]
  },
  {
   "cell_type": "code",
   "execution_count": 80,
   "id": "e9f7ea9f-d667-43a9-8ee4-a0faaa7aaacf",
   "metadata": {
    "tags": []
   },
   "outputs": [],
   "source": [
    "#### 多提示路由模板\n",
    "MULTI_PROMPT_ROUTER_TEMPLATE = \"\"\"给语言模型一个原始文本输入，\\\n",
    "让其选择最适合输入的模型提示。\\\n",
    "系统将为您提供可用提示的名称以及最适合改提示的描述。\\\n",
    "如果你认为修改原始输入最终会导致语言模型做出更好的响应，\\\n",
    "你也可以修改原始输入。\n",
    "\n",
    "\n",
    "<< 格式 >>\n",
    "返回一个带有JSON对象的markdown代码片段，该JSON对象的格式如下：\n",
    "```json\n",
    "{{{{\n",
    "    \"destination\": 字符串 \\ 使用的提示名字或者使用 \"DEFAULT\"\n",
    "    \"next_inputs\": 字符串 \\ 原始输入的改进版本\n",
    "}}}}\n",
    "\n",
    "\n",
    "\n",
    "记住：“destination”必须是下面指定的候选提示名称之一，\\\n",
    "或者如果输入不太适合任何候选提示，\\\n",
    "则可以是 “DEFAULT” 。\n",
    "记住：如果您认为不需要任何修改，\\\n",
    "则 “next_inputs” 可以只是原始输入。\n",
    "\n",
    "<< 候选提示 >>\n",
    "{destinations}\n",
    "\n",
    "<< 输入 >>\n",
    "{{input}}\n",
    "\n",
    "<< 输出 (记得要包含 ```json)>>\n",
    "\n",
    "样例:\n",
    "<< 输入 >>\n",
    "\"什么是黑体辐射?\"\n",
    "<< 输出 >>\n",
    "```json\n",
    "{{{{\n",
    "    \"destination\": 字符串 \\ 使用的提示名字或者使用 \"DEFAULT\"\n",
    "    \"next_inputs\": 字符串 \\ 原始输入的改进版本\n",
    "}}}}\n",
    "\n",
    "\"\"\"\n"
   ]
  },
  {
   "cell_type": "code",
   "execution_count": 81,
   "id": "47f7a525-0a9d-4074-a6b9-3d4e3c065624",
   "metadata": {
    "tags": []
   },
   "outputs": [],
   "source": [
    "#### 构造路由链\n",
    "router_template = MULTI_PROMPT_ROUTER_TEMPLATE.format(\n",
    "    destinations=destinations_str\n",
    ")\n",
    "router_prompt = PromptTemplate(\n",
    "    template=router_template,\n",
    "    input_variables=[\"input\"],\n",
    "    output_parser=RouterOutputParser(),\n",
    ")\n",
    "\n",
    "router_chain = LLMRouterChain.from_llm(llm, router_prompt)"
   ]
  },
  {
   "cell_type": "code",
   "execution_count": 83,
   "id": "ab1e0720-c1d0-483d-8d27-c250fbc74880",
   "metadata": {
    "tags": []
   },
   "outputs": [],
   "source": [
    "#### 整体路由链\n",
    "chain = MultiPromptChain(router_chain=router_chain,  # 路由链\n",
    "              destination_chains=destination_chains,  # 目标链\n",
    "              default_chain=default_chain,  # 默认链\n",
    "              verbose=True\n",
    "             )"
   ]
  },
  {
   "cell_type": "code",
   "execution_count": 84,
   "id": "e69f8dfd-1b94-45e2-abcb-88be359cf3f9",
   "metadata": {
    "tags": []
   },
   "outputs": [
    {
     "name": "stdout",
     "output_type": "stream",
     "text": [
      "\n",
      "\n",
      "\u001b[1m> Entering new MultiPromptChain chain...\u001b[0m\n",
      "None: {'input': '你好'}\n",
      "\u001b[1m> Finished chain.\u001b[0m\n"
     ]
    },
    {
     "data": {
      "text/plain": [
       "'你好！😊 很高兴见到你，有什么我可以帮忙的吗？'"
      ]
     },
     "execution_count": 84,
     "metadata": {},
     "output_type": "execute_result"
    }
   ],
   "source": [
    "chain.run(\"你好\")"
   ]
  },
  {
   "cell_type": "code",
   "execution_count": 85,
   "id": "ed3f35f9-d474-4282-98e1-e776656789f0",
   "metadata": {
    "tags": []
   },
   "outputs": [
    {
     "name": "stdout",
     "output_type": "stream",
     "text": [
      "\n",
      "\n",
      "\u001b[1m> Entering new MultiPromptChain chain...\u001b[0m\n",
      "物理学: {'input': '你能介绍一下牛顿的主要贡献和他在物理学中的地位吗？'}\n",
      "\u001b[1m> Finished chain.\u001b[0m\n"
     ]
    },
    {
     "data": {
      "text/plain": [
       "'当然！牛顿（Isaac Newton，1643–1727）是物理学史上最伟大的科学家之一，他的贡献奠定了经典物理学的基础。以下是他的核心成就和地位：\\n\\n---\\n\\n### **主要贡献**\\n1. **牛顿运动定律**  \\n   - **第一定律（惯性定律）**：物体保持静止或匀速直线运动，除非外力迫使它改变。  \\n   - **第二定律（F=ma）**：力与加速度的关系。  \\n   - **第三定律（作用力与反作用力）**：力的相互作用是成对出现的。  \\n   *意义*：首次用数学描述物体运动规律，成为经典力学的核心。\\n\\n2. **万有引力定律**  \\n   - 提出任何两个有质量的物体间存在引力（F=G·m₁m₂/r²），统一解释了天体运动（如行星轨道）和地面物体（如苹果下落）的力学现象。  \\n   *意义*：开创了天体力学，直接推动了现代天文学发展。\\n\\n3. **微积分**（与莱布尼茨独立发展）  \\n   - 发明流数术（微积分的前身），为物理学提供了关键数学工具。\\n\\n4. **光学研究**  \\n   - 发现白光由多种色光组成（棱镜实验），提出光的“粒子说”（虽然后续被波动说补充）。  \\n   - 发明反射式望远镜。\\n\\n5. **其他**  \\n   - 提出绝对时空观（后被爱因斯坦相对论修正），研究声速、流体力学等。\\n\\n---\\n\\n### **在物理学中的地位**\\n- **经典力学之父**：他的《自然哲学的数学原理》（1687年）是科学史上最伟大的著作之一，系统性地构建了物理学框架。  \\n- **科学革命巅峰**：将实验、数学与理论结合，确立了现代科学方法论。  \\n- **影响深远**：直到19世纪末，他的理论仍是物理学的基础（量子力学和相对论出现后才被部分修正）。\\n\\n---\\n\\n### **简洁总结**  \\n牛顿用数学揭示了自然的基本规律，将“天上”和“地上”的物理统一起来。他的工作不仅是物理学的基石，更彻底改变了人类对宇宙的认知。'"
      ]
     },
     "execution_count": 85,
     "metadata": {},
     "output_type": "execute_result"
    }
   ],
   "source": [
    "chain.run(\"你了解牛顿\")"
   ]
  },
  {
   "cell_type": "code",
   "execution_count": null,
   "id": "54ec01b2-3d6e-4417-b1f8-8d8cd9eceaad",
   "metadata": {},
   "outputs": [],
   "source": []
  }
 ],
 "metadata": {
  "kernelspec": {
   "display_name": "myconda",
   "language": "python",
   "name": "myconda"
  },
  "language_info": {
   "codemirror_mode": {
    "name": "ipython",
    "version": 3
   },
   "file_extension": ".py",
   "mimetype": "text/x-python",
   "name": "python",
   "nbconvert_exporter": "python",
   "pygments_lexer": "ipython3",
   "version": "3.10.12"
  }
 },
 "nbformat": 4,
 "nbformat_minor": 5
}
