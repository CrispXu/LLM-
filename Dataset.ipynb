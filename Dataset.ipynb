{
 "cells": [
  {
   "cell_type": "code",
   "execution_count": 21,
   "id": "137f895d-62c6-4110-b674-313c5c18bd47",
   "metadata": {
    "tags": []
   },
   "outputs": [],
   "source": [
    "from torch.utils.data import Dataset\n",
    "from PIL import Image\n",
    "import os"
   ]
  },
  {
   "cell_type": "code",
   "execution_count": 37,
   "id": "8cb3de86-76f5-4706-8d37-29217335d794",
   "metadata": {
    "tags": []
   },
   "outputs": [],
   "source": [
    "class Mydata(Dataset) :\n",
    "    def __init__(self, root_dir, label_dir):\n",
    "        self.root_dir = root_dir\n",
    "        self.label_dir = label_dir\n",
    "        self.path = os.path.join(self.root_dir, self.label_dir)\n",
    "        self.img_path = os.listdir(self.path)\n",
    "        \n",
    "        \n",
    "    \n",
    "    def __getitem__(self, index):\n",
    "        img_name = self.img_path[index]\n",
    "        img_item_path = os.path.join(self.root_dir, self.label_dir, img_name)\n",
    "        img = Image.open(img_item_path)\n",
    "        label = self.label_dir\n",
    "        return img, label\n",
    "    \n",
    "    def __len__(self) :\n",
    "        return len(self.img_path)\n",
    "        "
   ]
  },
  {
   "cell_type": "code",
   "execution_count": 38,
   "id": "656c170f-5afb-4359-a47a-a6d98372cbce",
   "metadata": {
    "tags": []
   },
   "outputs": [],
   "source": [
    "root_dir = \"mnt/Dataset/train\"\n",
    "ants_label_dir = \"ants\"\n",
    "bees_label_dir = \"bees\"\n",
    "ants_dataset = Mydata(root_dir, ants_label_dir)\n",
    "bees_dataset = Mydata(root_dir, bees_label_dir)"
   ]
  },
  {
   "cell_type": "code",
   "execution_count": 39,
   "id": "ea9691ce-d594-4dfe-afb1-3c97a6a4245b",
   "metadata": {
    "tags": []
   },
   "outputs": [],
   "source": [
    "train_dataset = ants_dataset + bees_dataset"
   ]
  },
  {
   "cell_type": "code",
   "execution_count": 40,
   "id": "78aa0e5d-940f-4395-a807-3fd38ba1b883",
   "metadata": {
    "tags": []
   },
   "outputs": [
    {
     "name": "stdout",
     "output_type": "stream",
     "text": [
      "121 127 248\n"
     ]
    }
   ],
   "source": [
    "print(len(bees_dataset),\n",
    "len(ants_dataset),\n",
    "len(train_dataset))"
   ]
  },
  {
   "cell_type": "code",
   "execution_count": 36,
   "id": "93bd6383-9809-437e-9807-03c69aa42d86",
   "metadata": {
    "tags": []
   },
   "outputs": [],
   "source": [
    "img, label = train_dataset[121]\n",
    "img.show()"
   ]
  },
  {
   "cell_type": "code",
   "execution_count": null,
   "id": "b95b6a7a-2ba7-4f98-9dce-aca344f11a84",
   "metadata": {},
   "outputs": [],
   "source": []
  }
 ],
 "metadata": {
  "kernelspec": {
   "display_name": "myconda",
   "language": "python",
   "name": "myconda"
  },
  "language_info": {
   "codemirror_mode": {
    "name": "ipython",
    "version": 3
   },
   "file_extension": ".py",
   "mimetype": "text/x-python",
   "name": "python",
   "nbconvert_exporter": "python",
   "pygments_lexer": "ipython3",
   "version": "3.10.12"
  }
 },
 "nbformat": 4,
 "nbformat_minor": 5
}
