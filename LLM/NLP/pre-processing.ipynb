{
 "cells": [
  {
   "cell_type": "code",
   "execution_count": 1,
   "id": "5df2d6bd-8dbf-47eb-a2f9-75ff82f58a17",
   "metadata": {
    "tags": []
   },
   "outputs": [
    {
     "name": "stdout",
     "output_type": "stream",
     "text": [
      "Hello How are you  Check out this link wwwexamplecom\n"
     ]
    }
   ],
   "source": [
    "import re\n",
    "\n",
    "# 去除特殊字符\n",
    "text = \"Hello! How are you? 😊 Check out this link: www.example.com\"\n",
    "cleaned_text = re.sub(r'[^\\w\\s]', '', text)\n",
    "print(cleaned_text)"
   ]
  },
  {
   "cell_type": "code",
   "execution_count": 2,
   "id": "03f2cc0c-46a9-4303-be7a-23164f8bfbc4",
   "metadata": {
    "tags": []
   },
   "outputs": [
    {
     "name": "stdout",
     "output_type": "stream",
     "text": [
      "Hello How are you\n"
     ]
    }
   ],
   "source": [
    "import string\n",
    "\n",
    "# 去除标点符号\n",
    "text = \"Hello! How are you?\"\n",
    "cleaned_text = text.translate(str.maketrans('', '', string.punctuation))\n",
    "print(cleaned_text)"
   ]
  },
  {
   "cell_type": "code",
   "execution_count": 3,
   "id": "f8d31ff4-5882-4517-8367-674ecf5c6b94",
   "metadata": {
    "tags": []
   },
   "outputs": [
    {
     "name": "stdout",
     "output_type": "stream",
     "text": [
      "hello world\n",
      "HELLO WORLD\n"
     ]
    }
   ],
   "source": [
    "# 大小写转换\n",
    "text = \"Hello World\"\n",
    "lower_text = text.lower()\n",
    "upper_text = text.upper()\n",
    "print(lower_text)  # 输出：\"hello world\"\n",
    "print(upper_text)  # 输出：\"HELLO WORLD\""
   ]
  },
  {
   "cell_type": "code",
   "execution_count": 4,
   "id": "22b791d9-948b-4d28-91db-8fc274412a83",
   "metadata": {
    "tags": []
   },
   "outputs": [
    {
     "name": "stdout",
     "output_type": "stream",
     "text": [
      "sample text contains stop words.\n"
     ]
    },
    {
     "name": "stderr",
     "output_type": "stream",
     "text": [
      "[nltk_data] Downloading package stopwords to /root/nltk_data...\n",
      "[nltk_data]   Package stopwords is already up-to-date!\n"
     ]
    }
   ],
   "source": [
    "from nltk.corpus import stopwords\n",
    "import nltk\n",
    "\n",
    "# 下载停用词数据（仅需下载一次）\n",
    "nltk.download('stopwords')\n",
    "\n",
    "# 去除停用词\n",
    "stop_words = set(stopwords.words('english'))\n",
    "text = \"This is a sample text and it contains some stop words.\"\n",
    "words = text.split()\n",
    "filtered_words = [word for word in words if word.lower() not in stop_words]\n",
    "filtered_text = ' '.join(filtered_words)\n",
    "print(filtered_text)  # 输出：\"sample text contains stop words.\"\n"
   ]
  },
  {
   "cell_type": "code",
   "execution_count": null,
   "id": "4e502580-329d-4ca3-b6b7-ac8477047349",
   "metadata": {
    "tags": []
   },
   "outputs": [],
   "source": [
    "from nltk.stem import PorterStemmer\n",
    "from nltk.stem import WordNetLemmatizer\n",
    "import nltk\n",
    "\n",
    "# 下载WordNetLemmatizer数据（仅需下载一次）\n",
    "nltk.download('wordnet')\n",
    "\n",
    "# 词干提取\n",
    "stemmer = PorterStemmer()\n",
    "word = \"running\"\n",
    "stemmed_word = stemmer.stem(word)\n",
    "print(stemmed_word)  # 输出：\"run\"\n",
    "\n",
    "# 词性还原\n",
    "lemmatizer = WordNetLemmatizer()\n",
    "word = \"running\"\n",
    "lemma_word = lemmatizer.lemmatize(word, pos='v')\n",
    "print(lemma_word)  # 输出：\"run\"\n"
   ]
  },
  {
   "cell_type": "code",
   "execution_count": null,
   "id": "6817d429-59ac-4cb0-9961-36abc3d6e8a5",
   "metadata": {},
   "outputs": [],
   "source": []
  }
 ],
 "metadata": {
  "kernelspec": {
   "display_name": "myconda",
   "language": "python",
   "name": "myconda"
  },
  "language_info": {
   "codemirror_mode": {
    "name": "ipython",
    "version": 3
   },
   "file_extension": ".py",
   "mimetype": "text/x-python",
   "name": "python",
   "nbconvert_exporter": "python",
   "pygments_lexer": "ipython3",
   "version": "3.10.12"
  }
 },
 "nbformat": 4,
 "nbformat_minor": 5
}
